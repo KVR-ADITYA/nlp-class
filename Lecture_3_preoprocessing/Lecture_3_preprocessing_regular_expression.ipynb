{
 "metadata": {
  "name": "",
  "signature": "sha256:fa1e0c4c8230f926725d58c26245c016d2507ac5a4ff6b65ced76533dd4bd5df"
 },
 "nbformat": 3,
 "nbformat_minor": 0,
 "worksheets": [
  {
   "cells": [
    {
     "cell_type": "code",
     "collapsed": false,
     "input": [
      "\"This is a class about NLP\".split()"
     ],
     "language": "python",
     "metadata": {},
     "outputs": [
      {
       "metadata": {},
       "output_type": "pyout",
       "prompt_number": 7,
       "text": [
        "['This', 'is', 'a', 'class', 'about', 'NLP']"
       ]
      }
     ],
     "prompt_number": 7
    },
    {
     "cell_type": "code",
     "collapsed": false,
     "input": [
      "# First there are two types of strings in Python \n",
      "a=\"sdfds\\\n",
      "fdsafsd\\\n",
      "sadfds\"\n",
      "print a"
     ],
     "language": "python",
     "metadata": {},
     "outputs": [
      {
       "output_type": "stream",
       "stream": "stdout",
       "text": [
        "sdfds\n",
        " fdsafsd\n",
        " sadfds\n"
       ]
      }
     ],
     "prompt_number": 116
    },
    {
     "cell_type": "code",
     "collapsed": false,
     "input": [
      "a=\"\"\"asdfsdf\n",
      " sfsdafdsf\n",
      " \n",
      " asdfdsf\"\"\"\n",
      "print a"
     ],
     "language": "python",
     "metadata": {},
     "outputs": [
      {
       "output_type": "stream",
       "stream": "stdout",
       "text": [
        "asdfsdf\n",
        " sfsdafdsf\n",
        " \n",
        " asdfdsf\n"
       ]
      }
     ],
     "prompt_number": 6
    },
    {
     "cell_type": "code",
     "collapsed": false,
     "input": [
      "# How to extract the file extension in a file name? e.g., \".html\" from \"/home/eachone/www/var/index.html\"? \n",
      "result = re.match(r'(.*)\\.([\\w]+)$\u3001', \"/home/eachone/www/var/index.html\")\n",
      "print result.groups()"
     ],
     "language": "python",
     "metadata": {},
     "outputs": [
      {
       "output_type": "stream",
       "stream": "stdout",
       "text": [
        "['html5']\n"
       ]
      }
     ],
     "prompt_number": 249
    },
    {
     "cell_type": "code",
     "collapsed": false,
     "input": [
      "import re, nltk"
     ],
     "language": "python",
     "metadata": {},
     "outputs": [],
     "prompt_number": 151
    },
    {
     "cell_type": "code",
     "collapsed": false,
     "input": [
      "# Section 1: Basic usage of re.findall. \n",
      "\n",
      "# Let's see a simple example \n",
      "print re.findall(r'[0123456789]+', \"his number is 455 487 4 44\")\n",
      "# Regular expressions are very simple. A pattern is a sequence of how different sets of characters repeat or not. \n",
      "# The example pattern above matches any string that:\n",
      "# 1. starts with a single digit, i.e., [0-9]\n",
      "# 2. followed by a sequence of at least one digit (i.e., +)) \n",
      "\n",
      "# The re.findall() method finds all strings that match the pattern defined. \n",
      "# The 1st parameter of re.findall() is the pattern, which begins with keyword r\n",
      "# The 2nd parameter is a string, whose substrings matchin the pattern will be returned "
     ],
     "language": "python",
     "metadata": {},
     "outputs": [
      {
       "output_type": "stream",
       "stream": "stdout",
       "text": [
        "['44']\n"
       ]
      }
     ],
     "prompt_number": 254
    },
    {
     "cell_type": "code",
     "collapsed": false,
     "input": [
      "# If we want to find all strings that are alphabet, use a different pattern\n",
      "print re.findall(r'[a-z]+', \"his number is 455 487 4 44\")\n",
      "# The notation a-z denotes all lowercase letters from a to z. \n",
      "# Similarly, A-Z are all uppercase letters from A to Z. "
     ],
     "language": "python",
     "metadata": {},
     "outputs": [
      {
       "output_type": "stream",
       "stream": "stdout",
       "text": [
        "['his', 'number', 'is']\n"
       ]
      }
     ],
     "prompt_number": 158
    },
    {
     "cell_type": "code",
     "collapsed": false,
     "input": [
      "# What if we change the pattern slightly by adding space into the set? \n",
      "print re.findall(r' ([0123456789 ]+) *', \"his number is 455 487 4 44  sdhfgdgh\") "
     ],
     "language": "python",
     "metadata": {},
     "outputs": [
      {
       "output_type": "stream",
       "stream": "stdout",
       "text": [
        "['455 487 4 44  ']\n"
       ]
      }
     ],
     "prompt_number": 259
    },
    {
     "cell_type": "code",
     "collapsed": false,
     "input": [
      "# Section 2: Repeating times by quantifiers \n",
      "\n",
      "# You can use quantifiers to specify how many time to repeat the character drawing from a set. \n",
      "# * for any times (including 0), + for at least once, ? for once or none, {m} for m times, {m,n} for m to n times\n",
      "# All quantifiers above are greedy quantifiers that matches as many repetitions as possible. \n",
      "\n",
      "# To switch to non-greedy, add a question mark after a quantifier, i.e., *?, +?, ??, and {m,n}?.\n",
      "\n",
      "# Check the two different output below. \n",
      "print re.findall(r'[a-z]{1,6}', \"his number is 455 487 4 44\") # \n",
      "print re.findall(r'[a-z]{2,6}?', \"his number is 455 487 4 44\")  # as few as possible, hence, once is picked. \n"
     ],
     "language": "python",
     "metadata": {},
     "outputs": [
      {
       "output_type": "stream",
       "stream": "stdout",
       "text": [
        "['his', 'number', 'is']\n",
        "['hi', 'nu', 'mb', 'er', 'is']\n"
       ]
      }
     ],
     "prompt_number": 270
    },
    {
     "cell_type": "code",
     "collapsed": false,
     "input": [
      "# Now let's see an example of matching ``email'' and ``e-mail''\n",
      "print re.findall(r'[eE]-?mail', \"i sent an email to reply his E-mail\")"
     ],
     "language": "python",
     "metadata": {},
     "outputs": [
      {
       "output_type": "stream",
       "stream": "stdout",
       "text": [
        "['email', 'E-mail']\n"
       ]
      }
     ],
     "prompt_number": 167
    },
    {
     "cell_type": "code",
     "collapsed": false,
     "input": [
      "# Section 3: Predifined sets \n",
      "# See Table 3.4 of NLTK book http://www.nltk.org/book/ch03.html#tab-re-symbols"
     ],
     "language": "python",
     "metadata": {},
     "outputs": []
    },
    {
     "cell_type": "code",
     "collapsed": false,
     "input": [
      "# Section 4: Substrings and non-capturing version of regular parentheses\n",
      "# You can use round brackets to define the scope of operators. \n",
      "print re.findall(r'[a-z]+(ed|ing)', \"i finished the homework for operating systems.\")\n",
      "# To extract the string that matches the pattern delimited by the brackets, use ?: \n",
      "print re.findall(r'[a-z]+(?:ed|ing)', \"i finished the homework for operating systems.\")\n",
      "# Also, compare this. \n",
      "print re.findall(r'([a-z]+(ed|ing))', \"i finished the homework for operating systems.\")"
     ],
     "language": "python",
     "metadata": {},
     "outputs": [
      {
       "output_type": "stream",
       "stream": "stdout",
       "text": [
        "['ed', 'ing']\n",
        "['finished', 'operating']\n",
        "[('finished', 'ed'), ('operating', 'ing')]\n"
       ]
      }
     ],
     "prompt_number": 176
    },
    {
     "cell_type": "code",
     "collapsed": false,
     "input": [
      "# Section 5: Escape sequences \n",
      "# Since parenthesis, dots, etc. are used for special meanings, we need different notations for them \n",
      "print re.findall(r'\\([\\w]+\\)', \"this university is iowa state university (ISU) at Ames, IA\")\n",
      "# Also, there are standard Python escape sequences. "
     ],
     "language": "python",
     "metadata": {},
     "outputs": [
      {
       "output_type": "stream",
       "stream": "stdout",
       "text": [
        "['(ISU)']\n"
       ]
      }
     ],
     "prompt_number": 268
    },
    {
     "cell_type": "code",
     "collapsed": false,
     "input": [
      "# Section 6: [advanced] Access groups of a match \n",
      "result = re.match(r'Chr([\\d]+):([\\d]+)-([\\d]+)', \"Chr2:45678-67890\")\n",
      "# for _ in range(len(results.))\n",
      "for number in result.groups():\n",
      "    print number\n",
      "print \"a new format:\"\n",
      "for index in range(len(result.groups())+1):\n",
      "    print result.group(index)"
     ],
     "language": "python",
     "metadata": {},
     "outputs": [
      {
       "output_type": "stream",
       "stream": "stdout",
       "text": [
        "2\n",
        "45678\n",
        "67890\n",
        "a new format:\n",
        "Chr2:45678-67890\n",
        "2\n",
        "45678\n",
        "67890\n"
       ]
      }
     ],
     "prompt_number": 193
    },
    {
     "cell_type": "code",
     "collapsed": false,
     "input": [
      "# a smarter way to know which group member is which is to assign them a name\n",
      "result = re.match(r'Chr(?P<chromosome>[\\d]+):(?P<start>[\\d]+)-(?P<end>[\\d]+)', \"Chr2:45678-67890\")\n",
      "print result.group('chromosome')\n",
      "print result.group('start')\n",
      "print result.group('end')"
     ],
     "language": "python",
     "metadata": {},
     "outputs": [
      {
       "output_type": "stream",
       "stream": "stdout",
       "text": [
        "2\n",
        "45678\n",
        "67890\n"
       ]
      }
     ],
     "prompt_number": 198
    },
    {
     "cell_type": "code",
     "collapsed": false,
     "input": [
      "# Section 7: [advanced] lookahead and lookbehind assertion\n",
      "Text = \"Jobs visited HP to find jobs with steve Wazniak.\"\n",
      "# How do we distinguish the two steve without using case? \n",
      "\n",
      "# 6.1  Positive lookbehind assertion (e.g. only if Jobs is proceeded by Steve)\n",
      "result = re.search(r'((?<=[S|s]teve) [J|j]obs)', Text)\n",
      "print result.groups()\n",
      "# 6.2 Positive lookahead assertion (e.g., only if Steve is followed by Jobs)\n",
      "result = re.search(r'([S|s]teve (?=[J|j]obs))', Text)\n",
      "print result.groups()\n",
      "# 6.3 Negative lookbehind assertion (e.g. only if Jobs is NOT proceeded by Steve)\n",
      "result = re.search(r'((?<![S|s]teve) [J|j]obs)', Text)\n",
      "print result.groups()\n",
      "# 6.4 Negative lookahead assertion (e.g., only if Steve is NOT followed by Jobs)\n",
      "result = re.search(r'([S|s]teve(?! [J|j]obs))', Text) \n",
      "print result.groups()\n"
     ],
     "language": "python",
     "metadata": {},
     "outputs": [
      {
       "output_type": "stream",
       "stream": "stdout",
       "text": [
        "(' Jobs',)\n",
        "('Steve ',)\n",
        "(' jobs',)\n",
        "('steve',)\n"
       ]
      }
     ],
     "prompt_number": 236
    },
    {
     "cell_type": "code",
     "collapsed": false,
     "input": [
      "#What about finding all words without letter e?\n",
      "print re.findall(r'^[a-df-z]+ | [a-df-z]+[a-df-z][a-df-z]+ ', \"this university is awesome but the food is not as good as PSU\")\n",
      "# Note that we use round parenthesis to remove whitespaces preceding or succeeding each token. "
     ],
     "language": "python",
     "metadata": {},
     "outputs": [
      {
       "output_type": "stream",
       "stream": "stdout",
       "text": [
        "['this ', ' but ', ' food ', ' not ', ' good ']\n"
       ]
      }
     ],
     "prompt_number": 156
    },
    {
     "cell_type": "code",
     "collapsed": false,
     "input": [
      "# Some sets are predifined. See https://docs.python.org/2/library/re.html"
     ],
     "language": "python",
     "metadata": {},
     "outputs": []
    },
    {
     "cell_type": "code",
     "collapsed": false,
     "input": [
      "text = \"They paid $5 to Segway across the Central Park of NYC after dinner on Sept. 7.\" "
     ],
     "language": "python",
     "metadata": {},
     "outputs": [],
     "prompt_number": 9
    },
    {
     "cell_type": "code",
     "collapsed": false,
     "input": [
      "print re.findall(r'[\\w]+', text)\n",
      "\n",
      "# In the example above, `+` means at least 1 repeat of all characters in the set \\w, which stands for "
     ],
     "language": "python",
     "metadata": {},
     "outputs": [
      {
       "output_type": "stream",
       "stream": "stdout",
       "text": [
        "['They', 'paid', '5', 'to', 'Segway', 'across', 'the', 'Central', 'Park', 'of', 'NYC', 'after', 'dinner', 'on', 'Sept', '7']\n"
       ]
      }
     ],
     "prompt_number": 17
    },
    {
     "cell_type": "code",
     "collapsed": false,
     "input": [
      "print re.findall(r'[\\w\\$]+', text)"
     ],
     "language": "python",
     "metadata": {},
     "outputs": [
      {
       "output_type": "stream",
       "stream": "stdout",
       "text": [
        "['They', 'paid', '$5', 'to', 'Segway', 'across', 'the', 'Central', 'Park', 'of', 'NYC', 'after', 'dinner', 'on', 'Sept', '7']\n"
       ]
      }
     ],
     "prompt_number": 18
    },
    {
     "cell_type": "code",
     "collapsed": false,
     "input": [
      "# What if we want to keep the dot in ``Sept.''? \n",
      "print re.findall(r'[\\w.]+ ', text) "
     ],
     "language": "python",
     "metadata": {},
     "outputs": [
      {
       "output_type": "stream",
       "stream": "stdout",
       "text": [
        "['They ', 'paid ', '5 ', 'to ', 'Segway ', 'across ', 'the ', 'Central ', 'Park ', 'of ', 'NYC ', 'after ', 'dinner ', 'on ', 'Sept. ']\n"
       ]
      }
     ],
     "prompt_number": 26
    },
    {
     "cell_type": "code",
     "collapsed": false,
     "input": [],
     "language": "python",
     "metadata": {},
     "outputs": []
    }
   ],
   "metadata": {}
  }
 ]
}