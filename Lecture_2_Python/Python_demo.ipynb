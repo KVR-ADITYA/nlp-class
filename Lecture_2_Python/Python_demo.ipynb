{
 "cells": [
  {
   "cell_type": "code",
   "execution_count": 50,
   "metadata": {},
   "outputs": [],
   "source": [
    "import antigravity"
   ]
  },
  {
   "cell_type": "markdown",
   "metadata": {},
   "source": [
    "# Is Python difficult to learn? \n",
    "* UNIX is user-friendly. It's just picky who its friends are. \n",
    "* Contrary to popular belief, Unix is user friendly. It just happens to be very selective about who it decides to make friends with.   -- unknown \n",
    "* It’s is easy to use - if you’re one of the 2 percent of the population who thinks logically and can read an instruction manual. The other 98 percent of the population would ﬁnd it very hard to use. -- Leslie Lamport"
   ]
  },
  {
   "cell_type": "markdown",
   "metadata": {},
   "source": [
    "# Line breaks and semicolons\n"
   ]
  },
  {
   "cell_type": "code",
   "execution_count": 51,
   "metadata": {},
   "outputs": [
    {
     "name": "stdout",
     "output_type": "stream",
     "text": [
      "a is positive\n",
      "1234\n",
      "1 2\n"
     ]
    }
   ],
   "source": [
    "a = 1; b = 2   \n",
    "if a > 0: \n",
    "    print (\"a is positive\") ; print(\"1234\")\n",
    "print(a, b)"
   ]
  },
  {
   "cell_type": "markdown",
   "metadata": {},
   "source": [
    "# Assignments"
   ]
  },
  {
   "cell_type": "code",
   "execution_count": 3,
   "metadata": {},
   "outputs": [],
   "source": [
    "d=10\n",
    "a, b= 1, 2\n",
    "x=y=z=10"
   ]
  },
  {
   "cell_type": "markdown",
   "metadata": {},
   "source": [
    "# Docstrings"
   ]
  },
  {
   "cell_type": "code",
   "execution_count": 20,
   "metadata": {},
   "outputs": [],
   "source": [
    "def foo(x):\n",
    "    \"\"\" a function to compute the square of integer x\n",
    "    \n",
    "    Parameters \n",
    "    ----------\n",
    "    \n",
    "        x: integer\n",
    "            the number to be squared\n",
    "    \n",
    "    Returns \n",
    "    -----------\n",
    "    \n",
    "        y: integer\n",
    "            the square of x \n",
    "    \n",
    "    Examples\n",
    "    ------------\n",
    "        \n",
    "    >>> f(1,2,3)\n",
    "    1\n",
    "    >>> f(3,4,5)\n",
    "    4567\n",
    "    \n",
    "    \"\"\"\n",
    " \n",
    "    return y "
   ]
  },
  {
   "cell_type": "markdown",
   "metadata": {},
   "source": [
    "# Doctest and good pratices \n",
    "\n",
    "* Linux has succeeded not because the original goal was to make it widely portable and widely available, but because it was based on good design principles and a good development model. -- Linus Torvalds, \"The Linux edge\", Open Sources: Voices from the Open Source Revolution, O'Reilly, 1999 \n",
    "* Modularize \n",
    "* Test each module before \n",
    "\n",
    "Why do we define functions? \n",
    "* For reusing a snippet of code -- save me from re-typing\n",
    "* For others to pay to use your function -- so I can be rich and be a happy professor\n",
    "* For making debugging easier -- aim small, miss small "
   ]
  },
  {
   "cell_type": "code",
   "execution_count": 33,
   "metadata": {},
   "outputs": [],
   "source": [
    "def f(a, b, c):\n",
    "    '''\n",
    "    \n",
    "    Examples\n",
    "    ------------\n",
    "        \n",
    "    >>> f(1,2,3)\n",
    "    1\n",
    "    >>> f(3,4,5)\n",
    "    4567\n",
    "    '''\n",
    "    return (a+b)/c"
   ]
  },
  {
   "cell_type": "code",
   "execution_count": 34,
   "metadata": {},
   "outputs": [
    {
     "name": "stdout",
     "output_type": "stream",
     "text": [
      "**********************************************************************\n",
      "File \"__main__\", line 20, in NoName\n",
      "Failed example:\n",
      "    f(3,4,5)\n",
      "Expected:\n",
      "    4567\n",
      "Got:\n",
      "    1\n"
     ]
    }
   ],
   "source": [
    "# Doctest is one way to test from examples in docstrings\n",
    "import doctest \n",
    "doctest.run_docstring_examples(f, globals())\n",
    "\n",
    "\n",
    "\n",
    "#if __name__ == '__main__':\n",
    "#    import doctest\n",
    "#    doctest.testmod()\n"
   ]
  },
  {
   "cell_type": "markdown",
   "metadata": {},
   "source": [
    "# Lists and for-loops\n",
    "\n",
    "Element-wise iteration \n",
    "\n",
    "Read more: iterator"
   ]
  },
  {
   "cell_type": "code",
   "execution_count": 53,
   "metadata": {},
   "outputs": [
    {
     "name": "stdout",
     "output_type": "stream",
     "text": [
      "[1, 2, 3]\n",
      "4\n"
     ]
    }
   ],
   "source": [
    "a =[1,2,3]\n",
    "for i in a:\n",
    "    i += 1 \n",
    "print (a)\n",
    "print (i)"
   ]
  },
  {
   "cell_type": "markdown",
   "metadata": {},
   "source": [
    "## `enumerate`"
   ]
  },
  {
   "cell_type": "code",
   "execution_count": 59,
   "metadata": {},
   "outputs": [
    {
     "name": "stdout",
     "output_type": "stream",
     "text": [
      "0 11\n",
      "1 12\n",
      "2 13\n"
     ]
    }
   ],
   "source": [
    "a=[11,12,13]\n",
    "for index, element in enumerate(a): \n",
    "    print (index, element)\n"
   ]
  },
  {
   "cell_type": "code",
   "execution_count": 61,
   "metadata": {},
   "outputs": [
    {
     "name": "stdout",
     "output_type": "stream",
     "text": [
      "1\n",
      "3\n",
      "5\n"
     ]
    }
   ],
   "source": [
    "a =[1,2,3,4,5,6]\n",
    "for i in a:\n",
    "    print (i)\n",
    "    a.remove(i)"
   ]
  },
  {
   "cell_type": "code",
   "execution_count": 25,
   "metadata": {},
   "outputs": [
    {
     "name": "stdout",
     "output_type": "stream",
     "text": [
      "fine. \n"
     ]
    }
   ],
   "source": [
    "a = 3; b= 100\n",
    "if a > 50:\n",
    "    print (\"a is large enough\")\n",
    "elif a > 5: \n",
    "    print (\"a is not too large but large enough\")\n",
    "elif a > 2: \n",
    "    print (\"fine. \")\n",
    "else: \n",
    "    print (\"a is NOT large enough\")\n"
   ]
  },
  {
   "cell_type": "markdown",
   "metadata": {},
   "source": [
    "# Tuples"
   ]
  },
  {
   "cell_type": "code",
   "execution_count": 28,
   "metadata": {},
   "outputs": [
    {
     "ename": "TypeError",
     "evalue": "can only concatenate tuple (not \"int\") to tuple",
     "output_type": "error",
     "traceback": [
      "\u001b[0;31m---------------------------------------------------------------------------\u001b[0m",
      "\u001b[0;31mTypeError\u001b[0m                                 Traceback (most recent call last)",
      "\u001b[0;32m<ipython-input-28-8a21e87f4ce8>\u001b[0m in \u001b[0;36m<module>\u001b[0;34m\u001b[0m\n\u001b[1;32m      2\u001b[0m \u001b[0mb\u001b[0m\u001b[0;34m=\u001b[0m\u001b[0;34m(\u001b[0m\u001b[0;36m4\u001b[0m\u001b[0;34m,\u001b[0m\u001b[0;36m5\u001b[0m\u001b[0;34m,\u001b[0m\u001b[0;36m6\u001b[0m\u001b[0;34m)\u001b[0m\u001b[0;34m\u001b[0m\u001b[0;34m\u001b[0m\u001b[0m\n\u001b[1;32m      3\u001b[0m \u001b[0ma\u001b[0m\u001b[0;34m.\u001b[0m\u001b[0mremove\u001b[0m\u001b[0;34m(\u001b[0m\u001b[0;36m2\u001b[0m\u001b[0;34m)\u001b[0m\u001b[0;34m\u001b[0m\u001b[0;34m\u001b[0m\u001b[0m\n\u001b[0;32m----> 4\u001b[0;31m \u001b[0mb\u001b[0m \u001b[0;34m+=\u001b[0m \u001b[0;34m(\u001b[0m\u001b[0;36m2\u001b[0m\u001b[0;34m)\u001b[0m\u001b[0;34m\u001b[0m\u001b[0;34m\u001b[0m\u001b[0m\n\u001b[0m",
      "\u001b[0;31mTypeError\u001b[0m: can only concatenate tuple (not \"int\") to tuple"
     ]
    }
   ],
   "source": [
    "a=[1,2,3]\n",
    "b=(4,5,6)"
   ]
  },
  {
   "cell_type": "markdown",
   "metadata": {},
   "source": [
    "## `zip`"
   ]
  },
  {
   "cell_type": "code",
   "execution_count": 38,
   "metadata": {},
   "outputs": [
    {
     "name": "stdout",
     "output_type": "stream",
     "text": [
      "((1, 4), (2, 5), (3, 6))\n",
      "[(1, 2, 3), (4, 5, 6)]\n"
     ]
    }
   ],
   "source": [
    "c = tuple(zip([1,2,3], [4,5,6])) \n",
    "print (c)\n",
    "d= list(zip(*c))\n",
    "print (d)"
   ]
  },
  {
   "cell_type": "markdown",
   "metadata": {},
   "source": [
    "# Dictionaries"
   ]
  },
  {
   "cell_type": "code",
   "execution_count": 56,
   "metadata": {},
   "outputs": [
    {
     "name": "stdout",
     "output_type": "stream",
     "text": [
      "3.6\n",
      "yuanzhi's GPA is: 3.7\n",
      "gupta's GPA is: 3.5\n",
      "john's GPA is: 3.6\n",
      "dict_keys(['yuanzhi', 'gupta', 'john'])\n",
      "dict_values([3.7, 3.5, 3.6])\n"
     ]
    }
   ],
   "source": [
    "gpa={\"yuanzhi\":3.7, \"gupta\":3.5, \"john\":3.6}\n",
    "print (gpa[\"john\"])\n",
    "for name, grade in gpa.items():\n",
    "    print (name, \"'s GPA is: \", grade)\n",
    "print (gpa.keys())\n",
    "print (gpa.values())"
   ]
  },
  {
   "cell_type": "markdown",
   "metadata": {},
   "source": [
    "\n",
    "# Functions"
   ]
  },
  {
   "cell_type": "code",
   "execution_count": 57,
   "metadata": {},
   "outputs": [
    {
     "data": {
      "text/plain": [
       "(5, 10)"
      ]
     },
     "execution_count": 57,
     "metadata": {},
     "output_type": "execute_result"
    }
   ],
   "source": [
    "def foo(a, b):\n",
    "  return a//b, a%b \n",
    "foo(70, 12)"
   ]
  },
  {
   "cell_type": "code",
   "execution_count": 64,
   "metadata": {},
   "outputs": [
    {
     "data": {
      "text/plain": [
       "3"
      ]
     },
     "execution_count": 64,
     "metadata": {},
     "output_type": "execute_result"
    }
   ],
   "source": [
    "def foo(a,b):\n",
    "  return a+b\n",
    "foo(1,2)"
   ]
  },
  {
   "cell_type": "markdown",
   "metadata": {},
   "source": [
    "## Multiple returns\n",
    "A function with multiple return variables actually returns a tuple. "
   ]
  },
  {
   "cell_type": "code",
   "execution_count": 5,
   "metadata": {},
   "outputs": [
    {
     "name": "stdout",
     "output_type": "stream",
     "text": [
      "(3, 4)\n",
      "3\n",
      "4\n"
     ]
    }
   ],
   "source": [
    "def foo(x):\n",
    "    return x+1, x+2\n",
    "\n",
    "print (foo(2))\n",
    "print (foo(2)[0])\n",
    "print (foo(2)[1])"
   ]
  },
  {
   "cell_type": "markdown",
   "metadata": {},
   "source": [
    "## positional (mandatory) and optional (keyword) arguments \n",
    "\n",
    "Positional arguments cannot have default value. Hence, they are mandatory. \n",
    "Keyword arguments have default value. Hence, you can ignore them when calling the function or override the default value. "
   ]
  },
  {
   "cell_type": "code",
   "execution_count": 6,
   "metadata": {},
   "outputs": [
    {
     "name": "stdout",
     "output_type": "stream",
     "text": [
      "3\n",
      "7\n",
      "11\n"
     ]
    }
   ],
   "source": [
    "def foo(x, y=1):\n",
    "    return x+y\n",
    "\n",
    "print (foo(2))\n",
    "print (foo(2, 5))\n",
    "print (foo(2, y=9))\n",
    "    "
   ]
  },
  {
   "cell_type": "code",
   "execution_count": null,
   "metadata": {},
   "outputs": [
    {
     "name": "stdout",
     "output_type": "stream",
     "text": [
      "3\n",
      "2\n"
     ]
    }
   ],
   "source": [
    "def bar(a, b, third=1, fourth=0):\n",
    "    if third: # not the same as if third != None\n",
    "        return a+b+third\n",
    "    else:\n",
    "        return a+b\n",
    "print (bar(1,2, third=None))\n",
    "print (bar(1,2,  fourth=1000, third=-1))"
   ]
  },
  {
   "cell_type": "markdown",
   "metadata": {},
   "source": [
    "## * and **"
   ]
  },
  {
   "cell_type": "code",
   "execution_count": 62,
   "metadata": {},
   "outputs": [
    {
     "name": "stdout",
     "output_type": "stream",
     "text": [
      "(1, 2, 3, 4)\n",
      "{'v': 1, 'w': 2}\n",
      "None\n"
     ]
    }
   ],
   "source": [
    "# def bar2(a,b,c,d,e,f, v=1, w=2, q=3, l=5): \n",
    "def bar2(*must, **optional):\n",
    "    total = 0 \n",
    "    for i in must:\n",
    "        total += i\n",
    "    print (total)\n",
    "    for name, value in optional.items():\n",
    "        total += value\n",
    "    return total \n",
    "\n",
    "# print (bar2(1,2,3,4, v=1 , w=2, ))\n",
    "\n",
    "def bar3(*args, **kwargs):\n",
    "    print (args)\n",
    "    print (kwargs)\n",
    "\n",
    "print (bar3(1,2,3,4, v=1 , w=2, ))"
   ]
  },
  {
   "cell_type": "markdown",
   "metadata": {},
   "source": [
    "Behind the scene: positionary arguments are packed into a tuple and keyword arguments are packed into a dictionary.  "
   ]
  },
  {
   "cell_type": "code",
   "execution_count": 12,
   "metadata": {},
   "outputs": [
    {
     "name": "stdout",
     "output_type": "stream",
     "text": [
      "3\n"
     ]
    },
    {
     "data": {
      "text/plain": [
       "10"
      ]
     },
     "execution_count": 12,
     "metadata": {},
     "output_type": "execute_result"
    }
   ],
   "source": [
    "bar2(*(1,2), **{\"x\":3, \"y\":4})"
   ]
  },
  {
   "cell_type": "markdown",
   "metadata": {},
   "source": [
    "## nested functions "
   ]
  },
  {
   "cell_type": "code",
   "execution_count": 13,
   "metadata": {},
   "outputs": [
    {
     "ename": "NameError",
     "evalue": "name 'hoo' is not defined",
     "output_type": "error",
     "traceback": [
      "\u001b[0;31m---------------------------------------------------------------------------\u001b[0m",
      "\u001b[0;31mNameError\u001b[0m                                 Traceback (most recent call last)",
      "\u001b[1;32m/home/forrest/Dropbox/teaching/NLP/Lecture_2_Python/Python_demo.ipynb Cell 43\u001b[0m in \u001b[0;36m<cell line: 8>\u001b[0;34m()\u001b[0m\n\u001b[1;32m      <a href='vscode-notebook-cell:/home/forrest/Dropbox/teaching/NLP/Lecture_2_Python/Python_demo.ipynb#X56sZmlsZQ%3D%3D?line=5'>6</a>\u001b[0m     \u001b[39mreturn\u001b[39;00m bar(a,b), hoo(a,b)\n\u001b[1;32m      <a href='vscode-notebook-cell:/home/forrest/Dropbox/teaching/NLP/Lecture_2_Python/Python_demo.ipynb#X56sZmlsZQ%3D%3D?line=6'>7</a>\u001b[0m foo(\u001b[39m123\u001b[39m,\u001b[39m7\u001b[39m)\n\u001b[0;32m----> <a href='vscode-notebook-cell:/home/forrest/Dropbox/teaching/NLP/Lecture_2_Python/Python_demo.ipynb#X56sZmlsZQ%3D%3D?line=7'>8</a>\u001b[0m hoo(\u001b[39m123\u001b[39m, \u001b[39m7\u001b[39m)\n",
      "\u001b[0;31mNameError\u001b[0m: name 'hoo' is not defined"
     ]
    }
   ],
   "source": [
    "def foo(a,b):\n",
    "    def  bar(a,b):\n",
    "        return a//b \n",
    "    def  hoo(a,b):\n",
    "        return a%b \n",
    "    return bar(a,b), hoo(a,b)\n",
    "foo(123,7)\n",
    "hoo(123, 7)"
   ]
  },
  {
   "cell_type": "markdown",
   "metadata": {},
   "source": [
    "## Tying hint\n",
    "But note that Python interpreter does not enforce typing. You need to use other tools. \n"
   ]
  },
  {
   "cell_type": "code",
   "execution_count": 65,
   "metadata": {},
   "outputs": [
    {
     "data": {
      "text/plain": [
       "False"
      ]
     },
     "execution_count": 65,
     "metadata": {},
     "output_type": "execute_result"
    }
   ],
   "source": [
    "def foo(a:int, b:int) -> int :\n",
    "    return a + b\n",
    "foo(1,2)\n",
    "foo(\"1233\", \"345\")"
   ]
  },
  {
   "cell_type": "markdown",
   "metadata": {},
   "source": [
    "# Functional programming \n",
    "## `map` and dictionary/list/tuple comprehension"
   ]
  },
  {
   "cell_type": "code",
   "execution_count": 68,
   "metadata": {},
   "outputs": [
    {
     "name": "stdout",
     "output_type": "stream",
     "text": [
      "[0, 1, 4, 9, 16]\n",
      "[1, 4, 9]\n"
     ]
    }
   ],
   "source": [
    "def sqrt(a):\n",
    "    return a**2 \n",
    "\n",
    "print ( [  sqrt(x)    for x in range(5)   ] )\n",
    "\n",
    "print (list( map(sqrt, [1,2,3])))"
   ]
  },
  {
   "cell_type": "markdown",
   "metadata": {},
   "source": [
    "## lambda (anonymous) function\n"
   ]
  },
  {
   "cell_type": "code",
   "execution_count": 74,
   "metadata": {},
   "outputs": [
    {
     "ename": "TypeError",
     "evalue": "unsupported operand type(s) for +: 'int' and 'str'",
     "output_type": "error",
     "traceback": [
      "\u001b[0;31m---------------------------------------------------------------------------\u001b[0m",
      "\u001b[0;31mTypeError\u001b[0m                                 Traceback (most recent call last)",
      "\u001b[1;32m/home/forrest/Dropbox/teaching/NLP/Lecture_2_Python/Python_demo.ipynb Cell 46\u001b[0m in \u001b[0;36m<cell line: 2>\u001b[0;34m()\u001b[0m\n\u001b[1;32m      <a href='vscode-notebook-cell:/home/forrest/Dropbox/teaching/NLP/Lecture_2_Python/Python_demo.ipynb#X62sZmlsZQ%3D%3D?line=0'>1</a>\u001b[0m (\u001b[39mlambda\u001b[39;00m x, y : x\u001b[39m+\u001b[39my) (\u001b[39m10\u001b[39m, \u001b[39m11\u001b[39m)\n\u001b[0;32m----> <a href='vscode-notebook-cell:/home/forrest/Dropbox/teaching/NLP/Lecture_2_Python/Python_demo.ipynb#X62sZmlsZQ%3D%3D?line=1'>2</a>\u001b[0m (\u001b[39mlambda\u001b[39;49;00m x, y : x\u001b[39m+\u001b[39;49my) (\u001b[39m1\u001b[39;49m, \u001b[39m\"\u001b[39;49m\u001b[39mhello\u001b[39;49m\u001b[39m\"\u001b[39;49m)\n",
      "\u001b[1;32m/home/forrest/Dropbox/teaching/NLP/Lecture_2_Python/Python_demo.ipynb Cell 46\u001b[0m in \u001b[0;36m<lambda>\u001b[0;34m(x, y)\u001b[0m\n\u001b[1;32m      <a href='vscode-notebook-cell:/home/forrest/Dropbox/teaching/NLP/Lecture_2_Python/Python_demo.ipynb#X62sZmlsZQ%3D%3D?line=0'>1</a>\u001b[0m (\u001b[39mlambda\u001b[39;00m x, y : x\u001b[39m+\u001b[39my) (\u001b[39m10\u001b[39m, \u001b[39m11\u001b[39m)\n\u001b[0;32m----> <a href='vscode-notebook-cell:/home/forrest/Dropbox/teaching/NLP/Lecture_2_Python/Python_demo.ipynb#X62sZmlsZQ%3D%3D?line=1'>2</a>\u001b[0m (\u001b[39mlambda\u001b[39;00m x, y : x\u001b[39m+\u001b[39;49my) (\u001b[39m1\u001b[39m, \u001b[39m\"\u001b[39m\u001b[39mhello\u001b[39m\u001b[39m\"\u001b[39m)\n",
      "\u001b[0;31mTypeError\u001b[0m: unsupported operand type(s) for +: 'int' and 'str'"
     ]
    }
   ],
   "source": [
    "(lambda x, y : x+y) (10, 11)\n",
    "(lambda x, y : x+y) (1, \"hello\")\n",
    "(lambda x, y : x+y) (\"hello\", 1)"
   ]
  },
  {
   "cell_type": "markdown",
   "metadata": {},
   "source": [
    "## `reduce`"
   ]
  },
  {
   "cell_type": "code",
   "execution_count": 76,
   "metadata": {},
   "outputs": [
    {
     "name": "stdout",
     "output_type": "stream",
     "text": [
      "10\n",
      "(((1, 2), 3), 4)\n"
     ]
    }
   ],
   "source": [
    "def plus(a,b): \n",
    "    return a+b\n",
    "\n",
    "import functools \n",
    "print (functools.reduce (plus,  [1,2,3,4]))\n",
    "print (functools.reduce (lambda x, y: (x,y) ,  [1,2,3,4]))"
   ]
  },
  {
   "cell_type": "markdown",
   "metadata": {},
   "source": [
    "### dot product using map and reduce "
   ]
  },
  {
   "cell_type": "code",
   "execution_count": null,
   "metadata": {},
   "outputs": [
    {
     "name": "stdout",
     "output_type": "stream",
     "text": [
      "11\n"
     ]
    }
   ],
   "source": [
    "a=[1,2,3]; b = [1,2,2]\n",
    "\n",
    "import operator\n",
    "list(map(operator.mul, a, b ))\n",
    "print (functools.reduce(operator.add, map(operator.mul, a, b ) ))"
   ]
  },
  {
   "cell_type": "markdown",
   "metadata": {},
   "source": [
    "## starmap"
   ]
  },
  {
   "cell_type": "code",
   "execution_count": 14,
   "metadata": {},
   "outputs": [
    {
     "name": "stdout",
     "output_type": "stream",
     "text": [
      "[1.1, 2.2, 3.3, 4.4]\n",
      "[(1, 0.1), (2, 0.2), (3, 0.3), (4, 0.4)]\n"
     ]
    },
    {
     "data": {
      "text/plain": [
       "[1.1, 2.2, 3.3, 4.4]"
      ]
     },
     "execution_count": 14,
     "metadata": {},
     "output_type": "execute_result"
    }
   ],
   "source": [
    "def foo(a, b):\n",
    "    return a+b\n",
    "\n",
    "# standard map \n",
    "A, B = [1,2,3,4], [0.1, 0.2, 0.3, 0.4]\n",
    "print (list(map(foo, A, B)))\n",
    "\n",
    "# star map \n",
    "import itertools\n",
    "print (list(zip(A, B))) # pair elements of A and B together \n",
    "list(itertools.starmap(foo, zip(A, B)))"
   ]
  },
  {
   "cell_type": "code",
   "execution_count": null,
   "metadata": {},
   "outputs": [
    {
     "name": "stdout",
     "output_type": "stream",
     "text": [
      "[(1, 3), (2, 4)]\n",
      "[111, 115]\n"
     ]
    }
   ],
   "source": [
    "print (list(zip([1,2,], [3,4,5])))\n",
    "print (list(map(foo, [1,3], range(10, 15), range(100, 105))))"
   ]
  },
  {
   "cell_type": "markdown",
   "metadata": {},
   "source": [
    "## What if I wanna set the same value for keyword arguments? `partial`\n"
   ]
  },
  {
   "cell_type": "code",
   "execution_count": 77,
   "metadata": {},
   "outputs": [
    {
     "name": "stdout",
     "output_type": "stream",
     "text": [
      "1 3 1 10\n",
      "2 4 1 10\n",
      "3 5 1 10\n"
     ]
    },
    {
     "data": {
      "text/plain": [
       "[None, None, None]"
      ]
     },
     "execution_count": 77,
     "metadata": {},
     "output_type": "execute_result"
    }
   ],
   "source": [
    "def  foo(a, b, c=1, d=1):\n",
    "    print (a,b,c,d)\n",
    "foo2 = functools.partial(foo, d=10)\n",
    "list(map(foo2, [1,2,3], [3,4,5]))"
   ]
  },
  {
   "cell_type": "code",
   "execution_count": null,
   "metadata": {},
   "outputs": [
    {
     "name": "stdout",
     "output_type": "stream",
     "text": [
      "[1.0, 1.4142135623730951, 5.830951894845301, 9.433981132056603]\n",
      "[6, 8, 10, 12]\n",
      "[(1, 5), (2, 6), (3, 7), (4, 8)]\n",
      "[5, 6, 7, 8]\n"
     ]
    }
   ],
   "source": [
    "print ( list(map(lambda x:x**0.5, [1,2,34,89]))) \n",
    "print (list(map(lambda x, y: x+y , [1,2,3,4], [5,6,7,8])))\n",
    "print (list(map(lambda x, y: (x, y) , [1,2,3,4], [5,6,7,8])))\n",
    "print (list(map(lambda x, y, z: x+y+z , [1,2,3,4], [5,6,7,8], [-1, -2, -3, -4])))"
   ]
  },
  {
   "cell_type": "markdown",
   "metadata": {},
   "source": [
    "# Exception handling "
   ]
  },
  {
   "cell_type": "code",
   "execution_count": null,
   "metadata": {},
   "outputs": [
    {
     "name": "stdout",
     "output_type": "stream",
     "text": [
      "0.5\n",
      "wrong type\n"
     ]
    }
   ],
   "source": [
    "def foo(a,b):\n",
    "    try :\n",
    "        print (a/b)\n",
    "    except TypeError: \n",
    "        print  (\"wrong type\")\n",
    "    except ValueError:\n",
    "        pass \n",
    "\n",
    "foo(1, 2)\n",
    "foo(\"a\", \"b\")"
   ]
  },
  {
   "cell_type": "markdown",
   "metadata": {},
   "source": [
    "# `eval` and `exec` "
   ]
  },
  {
   "cell_type": "code",
   "execution_count": null,
   "metadata": {},
   "outputs": [
    {
     "name": "stdout",
     "output_type": "stream",
     "text": [
      "2\n",
      "7\n",
      "1\n",
      "None\n"
     ]
    }
   ],
   "source": [
    "print (eval(\"1+1\")) # an expression only, no statements, return the value of the expression\n",
    "y = eval(\"5+2\")\n",
    "print (y)\n",
    "\n",
    "z = exec(\"a=1;b=2\")  # no return \n",
    "print (a)\n",
    "print (z)"
   ]
  },
  {
   "cell_type": "markdown",
   "metadata": {},
   "source": [
    "# Classes and OOP"
   ]
  },
  {
   "cell_type": "code",
   "execution_count": 79,
   "metadata": {},
   "outputs": [
    {
     "name": "stdout",
     "output_type": "stream",
     "text": [
      "kaggle.com\n",
      "kaggle.com\n",
      "Run experiment 2 times from kaggle.com\n"
     ]
    }
   ],
   "source": [
    "class experiments: \n",
    "    def __init__(self, url, epochs): # constructor \n",
    "        self.url = url\n",
    "        self.epochs = epochs\n",
    "\n",
    "    def __str__(self):\n",
    "        return f\"Run experiment {self.epochs} times from {self.url}\"\n",
    "\n",
    "    # def __repr__(self):\n",
    "    #     return f\"Run experiment {self.epochs} times from {self.url}\"\n",
    "    \n",
    "    def run(self):\n",
    "        for epoch in range(self.epochs):\n",
    "            print (self.url)\n",
    "\n",
    "exp1 = experiments(\"kaggle.com\", 2)\n",
    "exp1.run()\n",
    "print (exp1)"
   ]
  },
  {
   "cell_type": "code",
   "execution_count": null,
   "metadata": {},
   "outputs": [
    {
     "name": "stdout",
     "output_type": "stream",
     "text": [
      "loser.rocks\n",
      "thjis is advanced\n",
      "loser.rocks\n",
      "thjis is advanced\n",
      "loser.rocks\n",
      "thjis is advanced\n",
      "loser.rocks\n",
      "thjis is advanced\n"
     ]
    }
   ],
   "source": [
    "class advancedExperiments(experiments): # inheritance \n",
    "    def runrun(self):\n",
    "        for epoch in range(self.epochs):\n",
    "            print (self.url)\n",
    "            print (\"thjis is advanced\")\n",
    "\n",
    "exp2 = advancedExperiments(\"loser.rocks\", 4)\n",
    "exp2.runrun()"
   ]
  },
  {
   "cell_type": "markdown",
   "metadata": {},
   "source": [
    "# Parallelization"
   ]
  },
  {
   "cell_type": "code",
   "execution_count": 80,
   "metadata": {},
   "outputs": [
    {
     "name": "stdout",
     "output_type": "stream",
     "text": [
      "<multiprocessing.pool.Pool state=TERMINATE pool_size=8>\n"
     ]
    }
   ],
   "source": [
    "def foo(x):\n",
    "    x += 0.1\n",
    "    return x*x\n",
    "\n",
    "import multiprocessing\n",
    "with multiprocessing.Pool() as p:\n",
    "    p.map(foo, range(10000))\n",
    "\n"
   ]
  },
  {
   "cell_type": "markdown",
   "metadata": {},
   "source": [
    "# Selected third-party libraries\n",
    "* Beautifulsoup [example](https://github.com/forrestbao/pebble/blob/master/webcrawler/ACL2019_download.ipynb)\n",
    "* NumPy/Scipy\n",
    "* Matplotlib\n",
    "* ipywidget\n",
    "* Matplotlib, `matplotlib.animation`"
   ]
  },
  {
   "cell_type": "markdown",
   "metadata": {},
   "source": [
    "# Numpy"
   ]
  },
  {
   "cell_type": "code",
   "execution_count": null,
   "metadata": {},
   "outputs": [],
   "source": [
    "import numpy "
   ]
  },
  {
   "cell_type": "code",
   "execution_count": 83,
   "metadata": {},
   "outputs": [
    {
     "name": "stdout",
     "output_type": "stream",
     "text": [
      "[[1 2]\n",
      " [3 4]]\n"
     ]
    },
    {
     "data": {
      "text/plain": [
       "numpy.ndarray"
      ]
     },
     "execution_count": 83,
     "metadata": {},
     "output_type": "execute_result"
    }
   ],
   "source": [
    "L = [1, [2,3 ]]\n",
    "L = [[1, 2], [3,4]]\n",
    "\n",
    "print (numpy.array(L))\n",
    "\n",
    "\n",
    "a= numpy.array([[1,2], \n",
    "                [3,4]])\n",
    "a\n",
    "type(a)"
   ]
  },
  {
   "cell_type": "code",
   "execution_count": null,
   "metadata": {},
   "outputs": [
    {
     "data": {
      "text/plain": [
       "array([[1, 3],\n",
       "       [2, 4]])"
      ]
     },
     "execution_count": 33,
     "metadata": {},
     "output_type": "execute_result"
    }
   ],
   "source": [
    "a.transpose()"
   ]
  },
  {
   "cell_type": "code",
   "execution_count": null,
   "metadata": {},
   "outputs": [
    {
     "data": {
      "text/plain": [
       "array([[-2. ,  1. ],\n",
       "       [ 1.5, -0.5]])"
      ]
     },
     "execution_count": 45,
     "metadata": {},
     "output_type": "execute_result"
    }
   ],
   "source": [
    "numpy.linalg.inv(a)"
   ]
  },
  {
   "cell_type": "code",
   "execution_count": null,
   "metadata": {},
   "outputs": [
    {
     "data": {
      "text/plain": [
       "array([[ 1,  4],\n",
       "       [ 9, 16]])"
      ]
     },
     "execution_count": 35,
     "metadata": {},
     "output_type": "execute_result"
    }
   ],
   "source": [
    "a*a # hadamard product or element-wise product"
   ]
  },
  {
   "cell_type": "code",
   "execution_count": null,
   "metadata": {},
   "outputs": [
    {
     "data": {
      "text/plain": [
       "array([[ 7, 10],\n",
       "       [15, 22]])"
      ]
     },
     "execution_count": 37,
     "metadata": {},
     "output_type": "execute_result"
    }
   ],
   "source": [
    "a@a\n",
    "# or \n",
    "numpy.matmul(a, a)"
   ]
  },
  {
   "cell_type": "markdown",
   "metadata": {},
   "source": [
    "## axes system in Numpy"
   ]
  },
  {
   "cell_type": "code",
   "execution_count": 84,
   "metadata": {},
   "outputs": [
    {
     "name": "stdout",
     "output_type": "stream",
     "text": [
      "[[1 2]\n",
      " [3 4]]\n",
      "[3 4]\n",
      "[2 4]\n"
     ]
    }
   ],
   "source": [
    "print (a)\n",
    "print (a.max(axis=0))\n",
    "print (a.max(axis=1))"
   ]
  },
  {
   "cell_type": "code",
   "execution_count": null,
   "metadata": {},
   "outputs": [
    {
     "name": "stdout",
     "output_type": "stream",
     "text": [
      "[[5 6]\n",
      " [7 8]]\n",
      "[[3 4]\n",
      " [7 8]]\n",
      "[[2 4]\n",
      " [6 8]]\n"
     ]
    }
   ],
   "source": [
    "a= numpy.array([\n",
    "                [[1,2], \n",
    "                 [3,4]], \n",
    "                [[5,6], \n",
    "                 [7,8]]\n",
    "               ])\n",
    "print (a.max(axis=0))\n",
    "print (a.max(axis=1))\n",
    "print (a.max(axis=2))"
   ]
  },
  {
   "cell_type": "code",
   "execution_count": 29,
   "metadata": {},
   "outputs": [
    {
     "name": "stdout",
     "output_type": "stream",
     "text": [
      "[[1 2]\n",
      " [3 4]]\n",
      "[[1 2]\n",
      " [3 4]\n",
      " [1 2]\n",
      " [3 4]]\n",
      "[[1 2 1 2]\n",
      " [3 4 3 4]]\n",
      "[[[1 2]\n",
      "  [1 2]]\n",
      "\n",
      " [[3 4]\n",
      "  [3 4]]]\n"
     ]
    }
   ],
   "source": [
    "a= numpy.array([[1,2], \n",
    "                [3,4]])\n",
    "print(a)\n",
    "print (numpy.vstack((a,a))) \n",
    "print (numpy.hstack((a,a))) \n",
    "print (numpy.stack((a,a), axis=1))"
   ]
  },
  {
   "cell_type": "markdown",
   "metadata": {},
   "source": [
    "## Properly check whether two numpy.ndarray s are the same"
   ]
  },
  {
   "cell_type": "code",
   "execution_count": 30,
   "metadata": {},
   "outputs": [
    {
     "data": {
      "text/plain": [
       "True"
      ]
     },
     "execution_count": 30,
     "metadata": {},
     "output_type": "execute_result"
    }
   ],
   "source": [
    "numpy.array_equal(a,a)"
   ]
  },
  {
   "cell_type": "code",
   "execution_count": 31,
   "metadata": {},
   "outputs": [
    {
     "data": {
      "text/plain": [
       "array([[ True,  True],\n",
       "       [ True,  True]])"
      ]
     },
     "execution_count": 31,
     "metadata": {},
     "output_type": "execute_result"
    }
   ],
   "source": [
    "a==a"
   ]
  },
  {
   "cell_type": "markdown",
   "metadata": {},
   "source": [
    "## broadcast\n",
    "Note in the example below that `a` is a 2D numpy array while `b` is 1D. Mathematically, the product between the two are not defined. "
   ]
  },
  {
   "cell_type": "code",
   "execution_count": 28,
   "metadata": {},
   "outputs": [
    {
     "data": {
      "text/plain": [
       "array([[-1,  2,  0],\n",
       "       [-3,  4,  0]])"
      ]
     },
     "execution_count": 28,
     "metadata": {},
     "output_type": "execute_result"
    }
   ],
   "source": [
    "import numpy\n",
    "a= numpy.array([[1,2,5], \n",
    "                [3,4,6]])\n",
    "b = numpy.array([-1, 1, 0])\n",
    "\n",
    "a*b\n"
   ]
  },
  {
   "cell_type": "code",
   "execution_count": 86,
   "metadata": {},
   "outputs": [
    {
     "name": "stdout",
     "output_type": "stream",
     "text": [
      "[ 0  1  2  3  4  5  6  7  8  9 10 11 12 13 14 15 16 17 18 19 20 21 22 23\n",
      " 24 25 26 27 28 29]\n",
      "[[[ 0  1  2]\n",
      "  [ 3  4  5]]\n",
      "\n",
      " [[ 6  7  8]\n",
      "  [ 9 10 11]]\n",
      "\n",
      " [[12 13 14]\n",
      "  [15 16 17]]\n",
      "\n",
      " [[18 19 20]\n",
      "  [21 22 23]]\n",
      "\n",
      " [[24 25 26]\n",
      "  [27 28 29]]]\n"
     ]
    }
   ],
   "source": [
    "b=numpy.array(range(30))\n",
    "print (b)\n",
    "c = b.reshape(5,2,3)\n",
    "print (c)"
   ]
  },
  {
   "cell_type": "markdown",
   "metadata": {},
   "source": [
    "## Think matrixly\n",
    "\n",
    "If you write for-loops when dealing with numpy arrays, something might be wrong. "
   ]
  },
  {
   "cell_type": "code",
   "execution_count": 34,
   "metadata": {},
   "outputs": [
    {
     "name": "stdout",
     "output_type": "stream",
     "text": [
      "6\n"
     ]
    },
    {
     "data": {
      "text/plain": [
       "6"
      ]
     },
     "execution_count": 34,
     "metadata": {},
     "output_type": "execute_result"
    }
   ],
   "source": [
    "a=numpy.array([[1,2], [3,4]])\n",
    "\n",
    "# Do not do this\n",
    "row_sum = 0 \n",
    "for i in range(len(a)):\n",
    "    row_sum += a[i].max()\n",
    "\n",
    "print (row_sum)\n",
    "\n",
    "\n",
    "# Do this: \n",
    "sum(a.max(axis=1))\n"
   ]
  },
  {
   "cell_type": "code",
   "execution_count": 49,
   "metadata": {},
   "outputs": [
    {
     "data": {
      "text/plain": [
       "array([[ 5, 11, 17],\n",
       "       [11, 25, 39],\n",
       "       [17, 39, 61]])"
      ]
     },
     "execution_count": 49,
     "metadata": {},
     "output_type": "execute_result"
    }
   ],
   "source": [
    "a=numpy.array([[1,2], [3,4], [5,6]])\n",
    "numpy.inner(a,a)"
   ]
  },
  {
   "cell_type": "code",
   "execution_count": null,
   "metadata": {},
   "outputs": [],
   "source": []
  }
 ],
 "metadata": {
  "kernelspec": {
   "display_name": "Python 3.10.4 64-bit",
   "language": "python",
   "name": "python3"
  },
  "language_info": {
   "codemirror_mode": {
    "name": "ipython",
    "version": 3
   },
   "file_extension": ".py",
   "mimetype": "text/x-python",
   "name": "python",
   "nbconvert_exporter": "python",
   "pygments_lexer": "ipython3",
   "version": "3.10.4"
  },
  "vscode": {
   "interpreter": {
    "hash": "916dbcbb3f70747c44a77c7bcd40155683ae19c65e1c03b4aa3499c5328201f1"
   }
  }
 },
 "nbformat": 4,
 "nbformat_minor": 1
}
