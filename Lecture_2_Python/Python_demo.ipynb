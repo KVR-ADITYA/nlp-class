{
 "cells": [
  {
   "cell_type": "markdown",
   "metadata": {},
   "source": [
    "# Cool features that make Python more friendly than other languages\n",
    "\n",
    "Copyright 2017-2023 Forrest Sheng Bao http://fsbao.net"
   ]
  },
  {
   "cell_type": "markdown",
   "metadata": {},
   "source": [
    "## Line breaks and semicolons\n"
   ]
  },
  {
   "cell_type": "code",
   "execution_count": 51,
   "metadata": {},
   "outputs": [
    {
     "name": "stdout",
     "output_type": "stream",
     "text": [
      "a is positive\n",
      "1234\n",
      "1 2\n"
     ]
    }
   ],
   "source": [
    "a = 1; b = 2   \n",
    "if a > 0: \n",
    "    print (\"a is positive\") ; print(\"1234\")\n",
    "print(a, b)"
   ]
  },
  {
   "cell_type": "markdown",
   "metadata": {},
   "source": [
    "## Chain assignments"
   ]
  },
  {
   "cell_type": "code",
   "execution_count": 42,
   "metadata": {},
   "outputs": [],
   "source": [
    "d=10\n",
    "a, b= 1, 2\n",
    "x=y=z=10 # x = 10, y = 10 , z = 10, non-inertial "
   ]
  },
  {
   "cell_type": "markdown",
   "metadata": {},
   "source": [
    "## Docstrings, doctest, and automatic documentation"
   ]
  },
  {
   "cell_type": "code",
   "execution_count": 20,
   "metadata": {},
   "outputs": [],
   "source": [
    "def foo(x): \n",
    "    \"\"\" a function to compute the square of integer x\n",
    "    \n",
    "    Parameters \n",
    "    ----------\n",
    "    \n",
    "        x: integer\n",
    "            the number to be squared\n",
    "    \n",
    "    Returns \n",
    "    -----------\n",
    "    \n",
    "        y: integer\n",
    "            the square of x \n",
    "    \n",
    "    Examples\n",
    "    ------------\n",
    "        \n",
    "    >>> f(1,2,3)\n",
    "    1\n",
    "    >>> f(3,4,5)\n",
    "    4567\n",
    "    \n",
    "    \"\"\"\n",
    " \n",
    "    return y "
   ]
  },
  {
   "cell_type": "markdown",
   "metadata": {},
   "source": [
    "# Doctest and good pratices \n",
    "\n",
    "* Linux has succeeded not because the original goal was to make it widely portable and widely available, but because it was based on good design principles and a good development model. -- Linus Torvalds, \"The Linux edge\", Open Sources: Voices from the Open Source Revolution, O'Reilly, 1999 \n",
    "* Modularize \n",
    "* Test each module before \n",
    "\n",
    "Why do we define functions? \n",
    "* For reusing a snippet of code -- save me from re-typing\n",
    "* For others to pay to use your function -- so I can be rich and be a happy professor\n",
    "* For making debugging easier -- aim small, miss small "
   ]
  },
  {
   "cell_type": "code",
   "execution_count": 33,
   "metadata": {},
   "outputs": [],
   "source": [
    "def f(a, b, c):\n",
    "    '''\n",
    "    \n",
    "    Examples\n",
    "    ------------\n",
    "        \n",
    "    >>> f(1,2,3)\n",
    "    1\n",
    "    >>> f(3,4,5)\n",
    "    4567\n",
    "    '''\n",
    "    return (a+b)/c"
   ]
  },
  {
   "cell_type": "code",
   "execution_count": 34,
   "metadata": {},
   "outputs": [
    {
     "name": "stdout",
     "output_type": "stream",
     "text": [
      "**********************************************************************\n",
      "File \"__main__\", line 20, in NoName\n",
      "Failed example:\n",
      "    f(3,4,5)\n",
      "Expected:\n",
      "    4567\n",
      "Got:\n",
      "    1\n"
     ]
    }
   ],
   "source": [
    "# Doctest is one way to test from examples in docstrings\n",
    "import doctest \n",
    "doctest.run_docstring_examples(f, globals())\n",
    "\n",
    "\n",
    "\n",
    "#if __name__ == '__main__':\n",
    "#    import doctest\n",
    "#    doctest.testmod()\n"
   ]
  },
  {
   "cell_type": "markdown",
   "metadata": {},
   "source": [
    "## Printng tricks: f-strings, `end`, and formatted output"
   ]
  },
  {
   "cell_type": "code",
   "execution_count": 55,
   "metadata": {},
   "outputs": [
    {
     "name": "stdout",
     "output_type": "stream",
     "text": [
      "The half of x is 2.0\n",
      "The half of x is 2\n",
      "The half of x is 0\n"
     ]
    }
   ],
   "source": [
    "x = i \n",
    "print (f\"The half of x is {x/2}\")\n",
    "print (f\"The half of x is {x//2}\") # quotient\n",
    "print (f\"The half of x is {x%2}\")  # remainder"
   ]
  },
  {
   "cell_type": "code",
   "execution_count": 59,
   "metadata": {},
   "outputs": [
    {
     "name": "stdout",
     "output_type": "stream",
     "text": [
      " 33.3333\n"
     ]
    }
   ],
   "source": [
    "print (f\"{100/3: .4f}\") # control precision"
   ]
  },
  {
   "cell_type": "code",
   "execution_count": 62,
   "metadata": {},
   "outputs": [
    {
     "name": "stdout",
     "output_type": "stream",
     "text": [
      "hello, world\n",
      "hello, world\n"
     ]
    }
   ],
   "source": [
    "print (\"{0}, {1}\".format(\"hello\", \"world\"))\n",
    "\n",
    "# use dictionary \n",
    "print (\"{key1}, {key2}\".format(key1=\"hello\", key2=\"world\"))"
   ]
  },
  {
   "cell_type": "code",
   "execution_count": null,
   "metadata": {},
   "outputs": [
    {
     "name": "stdout",
     "output_type": "stream",
     "text": [
      "0 --> 1 --> 2 --> 3 --> 4 --> "
     ]
    }
   ],
   "source": [
    "for i in range(5):\n",
    "    print (i, end=' --> ')\n",
    "    # print (a[i])"
   ]
  },
  {
   "cell_type": "markdown",
   "metadata": {},
   "source": [
    "## Lists and for-loops\n",
    "\n",
    "Element-wise iteration "
   ]
  },
  {
   "cell_type": "code",
   "execution_count": 45,
   "metadata": {},
   "outputs": [
    {
     "name": "stdout",
     "output_type": "stream",
     "text": [
      "6\n",
      "3\n"
     ]
    }
   ],
   "source": [
    "x = 0 \n",
    "a =[1,2,3]\n",
    "for i in a:\n",
    "    x += i\n",
    "print (x)\n",
    "print (i)"
   ]
  },
  {
   "cell_type": "markdown",
   "metadata": {},
   "source": [
    "### List and dictionary comprehension\n"
   ]
  },
  {
   "cell_type": "code",
   "execution_count": 68,
   "metadata": {},
   "outputs": [
    {
     "name": "stdout",
     "output_type": "stream",
     "text": [
      "[0, 1, 4, 9, 16, 25, 36, 49, 64, 81]\n",
      "[0, 2, 4, 6, 8]\n",
      "[0, 0, 2, 0, 4, 0, 6, 0, 8, 0]\n",
      "[0, 0, 6, 0]\n"
     ]
    }
   ],
   "source": [
    "a = [i**2 for i in range(10)]\n",
    "\n",
    "print (a)\n",
    "\n",
    "a = [i for i in range(10) if i%2 == 0]\n",
    "\n",
    "print (a)\n",
    "\n",
    "a = [i if i%2 == 0 else 0 for i in range(10) ] # note the order of conditions and for changes\n",
    "\n",
    "print (a)\n",
    "\n",
    "# add a branch to the else statement\n",
    "\n",
    "a = [i if i%2 == 0 else 0 for i in range(10) if i%3 == 0] # note the order of conditions and for changes\n",
    "\n",
    "print (a) "
   ]
  },
  {
   "cell_type": "code",
   "execution_count": 70,
   "metadata": {},
   "outputs": [
    {
     "name": "stdout",
     "output_type": "stream",
     "text": [
      "{0: 0, 1: 1, 2: 4, 3: 9, 4: 16, 5: 25, 6: 36, 7: 49, 8: 64, 9: 81}\n",
      "9\n",
      "1\n"
     ]
    }
   ],
   "source": [
    "a = {i: i**2 for i in range(10)}\n",
    "\n",
    "print (a)\n",
    "\n",
    "print (a[3])\n",
    "\n",
    "print (a.get(100, \"not found\"))"
   ]
  },
  {
   "cell_type": "markdown",
   "metadata": {},
   "source": [
    "### `setdefault` for dictionaries"
   ]
  },
  {
   "cell_type": "code",
   "execution_count": 75,
   "metadata": {},
   "outputs": [
    {
     "name": "stdout",
     "output_type": "stream",
     "text": [
      "{1: [1]}\n"
     ]
    }
   ],
   "source": [
    "x= {}\n",
    "\n",
    "x.setdefault(1, []).append(1)\n",
    "\n",
    "print (x)\n",
    "\n",
    "# equivalent to \n",
    "\n",
    "if 1 not in x:\n",
    "    x[1] = []\n",
    "    x[1].append(1)"
   ]
  },
  {
   "cell_type": "markdown",
   "metadata": {},
   "source": [
    "### Iterators \n",
    "\n",
    "Iterators are powerful tools to iterate over a sequence of elements. It can be useful when you wanna iterate over a large sequence of elements but you do not want to store them in memory.\n",
    "\n",
    "A use case: https://github.com/forrestbao/DL4SC/blob/refactor/pass-config/preprocessing.py"
   ]
  },
  {
   "cell_type": "code",
   "execution_count": 76,
   "metadata": {},
   "outputs": [
    {
     "name": "stdout",
     "output_type": "stream",
     "text": [
      "0\n",
      "0\n"
     ]
    }
   ],
   "source": [
    "def foo(): \n",
    "    for i in range(10):\n",
    "        yield i \n",
    "\n",
    "x = next(foo())\n",
    "print (x)"
   ]
  },
  {
   "cell_type": "code",
   "execution_count": 6,
   "metadata": {},
   "outputs": [
    {
     "name": "stdout",
     "output_type": "stream",
     "text": [
      "0\n",
      "1\n",
      "2\n",
      "3\n",
      "4\n",
      "5\n",
      "6\n",
      "7\n",
      "8\n",
      "9\n"
     ]
    }
   ],
   "source": [
    "for x in foo(): \n",
    "    print (x)"
   ]
  },
  {
   "cell_type": "markdown",
   "metadata": {},
   "source": [
    "### `tqdm`\n",
    "\n",
    "TQDM is a 3rd party package that allows you to easily add a progress bar to your code. "
   ]
  },
  {
   "cell_type": "code",
   "execution_count": 77,
   "metadata": {},
   "outputs": [
    {
     "name": "stderr",
     "output_type": "stream",
     "text": [
      "100%|██████████| 50/50 [00:05<00:00,  9.88it/s]\n"
     ]
    }
   ],
   "source": [
    "\n",
    "from tqdm import tqdm\n",
    "from time import sleep\n",
    "for i in tqdm(range(50)):\n",
    "    sleep(0.1)\n",
    "    pass"
   ]
  },
  {
   "cell_type": "markdown",
   "metadata": {},
   "source": [
    "### `enumerate`"
   ]
  },
  {
   "cell_type": "code",
   "execution_count": 59,
   "metadata": {},
   "outputs": [
    {
     "name": "stdout",
     "output_type": "stream",
     "text": [
      "0 11\n",
      "1 12\n",
      "2 13\n"
     ]
    }
   ],
   "source": [
    "a=[11,12,13]\n",
    "for index, element in enumerate(a): \n",
    "    print (index, element)\n"
   ]
  },
  {
   "attachments": {},
   "cell_type": "markdown",
   "metadata": {},
   "source": [
    "## Copy and deep copy \n",
    "In Python, the assignments of some types of objects only creates references, not actual copies. "
   ]
  },
  {
   "cell_type": "code",
   "execution_count": 79,
   "metadata": {},
   "outputs": [],
   "source": [
    "x = [10, 20]\n",
    "y = x "
   ]
  },
  {
   "cell_type": "code",
   "execution_count": 80,
   "metadata": {},
   "outputs": [],
   "source": [
    "x[1] = 100"
   ]
  },
  {
   "cell_type": "code",
   "execution_count": 81,
   "metadata": {},
   "outputs": [
    {
     "data": {
      "text/plain": [
       "[10, 100]"
      ]
     },
     "execution_count": 81,
     "metadata": {},
     "output_type": "execute_result"
    }
   ],
   "source": [
    "y  # y is changed when x is changed"
   ]
  },
  {
   "cell_type": "code",
   "execution_count": 83,
   "metadata": {},
   "outputs": [
    {
     "name": "stdout",
     "output_type": "stream",
     "text": [
      "[1000, 100] [1000, 100]\n"
     ]
    }
   ],
   "source": [
    "y = x[:] # copy the list\n",
    "x [0] = 1000\n",
    "print (x, y)"
   ]
  },
  {
   "cell_type": "code",
   "execution_count": 19,
   "metadata": {},
   "outputs": [
    {
     "name": "stdout",
     "output_type": "stream",
     "text": [
      "1\n",
      "2\n",
      "3\n",
      "4\n",
      "5\n",
      "6\n"
     ]
    }
   ],
   "source": [
    "import copy # a python native module \n",
    "a =[1,2,3,4,5,6]\n",
    "for i in  copy.deepcopy(a):\n",
    "    print (i)\n",
    "    a.remove(i)"
   ]
  },
  {
   "cell_type": "markdown",
   "metadata": {},
   "source": [
    "## Tuples"
   ]
  },
  {
   "cell_type": "code",
   "execution_count": 28,
   "metadata": {},
   "outputs": [
    {
     "ename": "TypeError",
     "evalue": "can only concatenate tuple (not \"int\") to tuple",
     "output_type": "error",
     "traceback": [
      "\u001b[0;31m---------------------------------------------------------------------------\u001b[0m",
      "\u001b[0;31mTypeError\u001b[0m                                 Traceback (most recent call last)",
      "\u001b[0;32m<ipython-input-28-8a21e87f4ce8>\u001b[0m in \u001b[0;36m<module>\u001b[0;34m\u001b[0m\n\u001b[1;32m      2\u001b[0m \u001b[0mb\u001b[0m\u001b[0;34m=\u001b[0m\u001b[0;34m(\u001b[0m\u001b[0;36m4\u001b[0m\u001b[0;34m,\u001b[0m\u001b[0;36m5\u001b[0m\u001b[0;34m,\u001b[0m\u001b[0;36m6\u001b[0m\u001b[0;34m)\u001b[0m\u001b[0;34m\u001b[0m\u001b[0;34m\u001b[0m\u001b[0m\n\u001b[1;32m      3\u001b[0m \u001b[0ma\u001b[0m\u001b[0;34m.\u001b[0m\u001b[0mremove\u001b[0m\u001b[0;34m(\u001b[0m\u001b[0;36m2\u001b[0m\u001b[0;34m)\u001b[0m\u001b[0;34m\u001b[0m\u001b[0;34m\u001b[0m\u001b[0m\n\u001b[0;32m----> 4\u001b[0;31m \u001b[0mb\u001b[0m \u001b[0;34m+=\u001b[0m \u001b[0;34m(\u001b[0m\u001b[0;36m2\u001b[0m\u001b[0;34m)\u001b[0m\u001b[0;34m\u001b[0m\u001b[0;34m\u001b[0m\u001b[0m\n\u001b[0m",
      "\u001b[0;31mTypeError\u001b[0m: can only concatenate tuple (not \"int\") to tuple"
     ]
    }
   ],
   "source": [
    "a=[1,2,3] # mutable\n",
    "b=(4,5,6) # immutable"
   ]
  },
  {
   "cell_type": "markdown",
   "metadata": {},
   "source": [
    "### `zip`"
   ]
  },
  {
   "cell_type": "code",
   "execution_count": 42,
   "metadata": {},
   "outputs": [
    {
     "name": "stdout",
     "output_type": "stream",
     "text": [
      "((1, 4, 7), (2, 5, 8), (3, 6, 9))\n",
      "[(1, 2, 3), (4, 5, 6), (7, 8, 9)]\n"
     ]
    }
   ],
   "source": [
    "c = tuple(zip([1,2,3], [4,5,6], [7,8,9, 10])) \n",
    "print (c)\n",
    "d= list(zip(*c))\n",
    "print (d)"
   ]
  },
  {
   "cell_type": "markdown",
   "metadata": {},
   "source": [
    "## Dictionary methods `keys()`, `values()`, `items()`"
   ]
  },
  {
   "cell_type": "code",
   "execution_count": 84,
   "metadata": {},
   "outputs": [
    {
     "name": "stdout",
     "output_type": "stream",
     "text": [
      "3.6\n",
      "yuanzhi 's GPA is:  3.7\n",
      "gupta 's GPA is:  3.5\n",
      "john 's GPA is:  3.6\n",
      "dict_keys(['yuanzhi', 'gupta', 'john'])\n",
      "dict_values([3.7, 3.5, 3.6])\n",
      "dict_items([('yuanzhi', 3.7), ('gupta', 3.5), ('john', 3.6)])\n"
     ]
    }
   ],
   "source": [
    "gpa={\"yuanzhi\":3.7, \"gupta\":3.5, \"john\":3.6}\n",
    "print (gpa[\"john\"])\n",
    "for name, grade in gpa.items():\n",
    "    print (name, \"'s GPA is: \", grade)\n",
    "print (gpa.keys())\n",
    "print (gpa.values())"
   ]
  },
  {
   "cell_type": "markdown",
   "metadata": {},
   "source": [
    "## Functions"
   ]
  },
  {
   "cell_type": "code",
   "execution_count": 85,
   "metadata": {},
   "outputs": [
    {
     "name": "stdout",
     "output_type": "stream",
     "text": [
      "5\n",
      "10\n"
     ]
    }
   ],
   "source": [
    "def foo(a, b):\n",
    "  return a//b, a%b \n",
    "quotient, remainder = foo(70, 12)\n",
    "print (quotient)\n",
    "print (remainder)"
   ]
  },
  {
   "cell_type": "code",
   "execution_count": 64,
   "metadata": {},
   "outputs": [
    {
     "data": {
      "text/plain": [
       "3"
      ]
     },
     "execution_count": 64,
     "metadata": {},
     "output_type": "execute_result"
    }
   ],
   "source": [
    "def foo(a,b):\n",
    "  return a+b\n",
    "foo(1,2)"
   ]
  },
  {
   "cell_type": "markdown",
   "metadata": {},
   "source": [
    "### Multiple returns\n",
    "A function with multiple return variables actually returns a tuple. "
   ]
  },
  {
   "cell_type": "code",
   "execution_count": 5,
   "metadata": {},
   "outputs": [
    {
     "name": "stdout",
     "output_type": "stream",
     "text": [
      "(3, 4)\n",
      "3\n",
      "4\n"
     ]
    }
   ],
   "source": [
    "def foo(x):\n",
    "    return x+1, x+2\n",
    "\n",
    "print (foo(2))\n",
    "print (foo(2)[0])\n",
    "print (foo(2)[1])"
   ]
  },
  {
   "cell_type": "markdown",
   "metadata": {},
   "source": [
    "### positional (mandatory) and optional (keyword) arguments \n",
    "\n",
    "Positional arguments cannot have default value. Hence, they are mandatory. \n",
    "Keyword arguments have default value. Hence, you can ignore them when calling the function or override the default value. "
   ]
  },
  {
   "cell_type": "code",
   "execution_count": 87,
   "metadata": {},
   "outputs": [
    {
     "name": "stdout",
     "output_type": "stream",
     "text": [
      "6\n",
      "10\n",
      "111\n"
     ]
    }
   ],
   "source": [
    "def foo(x, y=1, z=3):\n",
    "    return x+y+z\n",
    "\n",
    "print (foo(2))\n",
    "print (foo(2, 5))\n",
    "print (foo(2, z=9, y=100))"
   ]
  },
  {
   "cell_type": "code",
   "execution_count": 88,
   "metadata": {},
   "outputs": [
    {
     "name": "stdout",
     "output_type": "stream",
     "text": [
      "6\n"
     ]
    }
   ],
   "source": [
    "kwargs = {\"y\": 1, \"z\": 3}\n",
    "print (foo(2, **kwargs))"
   ]
  },
  {
   "cell_type": "code",
   "execution_count": null,
   "metadata": {},
   "outputs": [
    {
     "name": "stdout",
     "output_type": "stream",
     "text": [
      "3\n",
      "2\n"
     ]
    }
   ],
   "source": [
    "def bar(a, b, third=1, fourth=0):\n",
    "    if third: # not the same as if third != None\n",
    "        return a+b+third\n",
    "    else:\n",
    "        return a+b\n",
    "print (bar(1,2, third=None))\n",
    "print (bar(1,2,  fourth=1000, third=-1))"
   ]
  },
  {
   "cell_type": "markdown",
   "metadata": {},
   "source": [
    "### * and **"
   ]
  },
  {
   "cell_type": "code",
   "execution_count": 62,
   "metadata": {},
   "outputs": [
    {
     "name": "stdout",
     "output_type": "stream",
     "text": [
      "(1, 2, 3, 4)\n",
      "{'v': 1, 'w': 2}\n",
      "None\n"
     ]
    }
   ],
   "source": [
    "# def bar2(a,b,c,d,e,f, v=1, w=2, q=3, l=5): \n",
    "def bar2(*must, **optional):\n",
    "    total = 0 \n",
    "    for i in must:\n",
    "        total += i\n",
    "    print (total)\n",
    "    for name, value in optional.items():\n",
    "        total += value\n",
    "    return total \n",
    "\n",
    "# print (bar2(1,2,3,4, v=1 , w=2, ))\n",
    "\n",
    "def bar3(*args, **kwargs):\n",
    "    print (args)\n",
    "    print (kwargs)\n",
    "\n",
    "print (bar3(1,2,3,4, v=1 , w=2, ))"
   ]
  },
  {
   "cell_type": "markdown",
   "metadata": {},
   "source": [
    "Behind the scene: positionary arguments are packed into a tuple and keyword arguments are packed into a dictionary.  "
   ]
  },
  {
   "cell_type": "code",
   "execution_count": 12,
   "metadata": {},
   "outputs": [
    {
     "name": "stdout",
     "output_type": "stream",
     "text": [
      "3\n"
     ]
    },
    {
     "data": {
      "text/plain": [
       "10"
      ]
     },
     "execution_count": 12,
     "metadata": {},
     "output_type": "execute_result"
    }
   ],
   "source": [
    "bar2(*(1,2), **{\"x\":3, \"y\":4})"
   ]
  },
  {
   "cell_type": "markdown",
   "metadata": {},
   "source": [
    "### nested functions "
   ]
  },
  {
   "cell_type": "code",
   "execution_count": 13,
   "metadata": {},
   "outputs": [
    {
     "ename": "NameError",
     "evalue": "name 'hoo' is not defined",
     "output_type": "error",
     "traceback": [
      "\u001b[0;31m---------------------------------------------------------------------------\u001b[0m",
      "\u001b[0;31mNameError\u001b[0m                                 Traceback (most recent call last)",
      "\u001b[1;32m/home/forrest/Dropbox/teaching/NLP/Lecture_2_Python/Python_demo.ipynb Cell 43\u001b[0m in \u001b[0;36m<cell line: 8>\u001b[0;34m()\u001b[0m\n\u001b[1;32m      <a href='vscode-notebook-cell:/home/forrest/Dropbox/teaching/NLP/Lecture_2_Python/Python_demo.ipynb#X56sZmlsZQ%3D%3D?line=5'>6</a>\u001b[0m     \u001b[39mreturn\u001b[39;00m bar(a,b), hoo(a,b)\n\u001b[1;32m      <a href='vscode-notebook-cell:/home/forrest/Dropbox/teaching/NLP/Lecture_2_Python/Python_demo.ipynb#X56sZmlsZQ%3D%3D?line=6'>7</a>\u001b[0m foo(\u001b[39m123\u001b[39m,\u001b[39m7\u001b[39m)\n\u001b[0;32m----> <a href='vscode-notebook-cell:/home/forrest/Dropbox/teaching/NLP/Lecture_2_Python/Python_demo.ipynb#X56sZmlsZQ%3D%3D?line=7'>8</a>\u001b[0m hoo(\u001b[39m123\u001b[39m, \u001b[39m7\u001b[39m)\n",
      "\u001b[0;31mNameError\u001b[0m: name 'hoo' is not defined"
     ]
    }
   ],
   "source": [
    "def foo(a,b):\n",
    "    def  bar(a,b):\n",
    "        return a//b \n",
    "    def  hoo(a,b):\n",
    "        return a%b \n",
    "    return bar(a,b), hoo(a,b)\n",
    "foo(123,7)\n",
    "hoo(123, 7)"
   ]
  },
  {
   "cell_type": "markdown",
   "metadata": {},
   "source": [
    "### Tying hint\n",
    "But note that Python interpreter does not enforce typing. You need to use other tools. \n"
   ]
  },
  {
   "cell_type": "code",
   "execution_count": 65,
   "metadata": {},
   "outputs": [
    {
     "data": {
      "text/plain": [
       "False"
      ]
     },
     "execution_count": 65,
     "metadata": {},
     "output_type": "execute_result"
    }
   ],
   "source": [
    "def foo(a:int, b:int) -> int:\n",
    "    return a + b\n",
    "foo(1,2)\n",
    "foo(\"1233\", \"345\")"
   ]
  },
  {
   "cell_type": "markdown",
   "metadata": {},
   "source": [
    "## Functional programming \n",
    "### `map` and dictionary/list/tuple comprehension"
   ]
  },
  {
   "cell_type": "code",
   "execution_count": 68,
   "metadata": {},
   "outputs": [
    {
     "name": "stdout",
     "output_type": "stream",
     "text": [
      "[0, 1, 4, 9, 16]\n",
      "[1, 4, 9]\n"
     ]
    }
   ],
   "source": [
    "def sqrt(a):\n",
    "    return a**2 \n",
    "\n",
    "print ( [  sqrt(x)    for x in range(5)   ] )\n",
    "\n",
    "print (list( map(sqrt, [1,2,3])))"
   ]
  },
  {
   "cell_type": "markdown",
   "metadata": {},
   "source": [
    "### lambda (anonymous) function\n"
   ]
  },
  {
   "cell_type": "code",
   "execution_count": 93,
   "metadata": {},
   "outputs": [
    {
     "name": "stdout",
     "output_type": "stream",
     "text": [
      "21 hello, world\n"
     ]
    }
   ],
   "source": [
    "print (\n",
    "    (lambda x, y : x+y) (10, 11), \n",
    "    (lambda x, y : x+y) (\"hello, \", \"world\")\n",
    ")\n",
    "# (lambda x, y : x+y) (\"hello\", 1)"
   ]
  },
  {
   "cell_type": "markdown",
   "metadata": {},
   "source": [
    "### `reduce`"
   ]
  },
  {
   "cell_type": "code",
   "execution_count": 95,
   "metadata": {},
   "outputs": [
    {
     "name": "stdout",
     "output_type": "stream",
     "text": [
      "10\n",
      "(((1, 2), 3), 4)\n"
     ]
    }
   ],
   "source": [
    "def plus(a,b): \n",
    "    return a+b\n",
    "\n",
    "import functools \n",
    "print (functools.reduce (plus,  [1,2,3,4]))\n",
    "print (functools.reduce (lambda x, y: (x,y) ,  [1,2,3,4]))"
   ]
  },
  {
   "cell_type": "markdown",
   "metadata": {},
   "source": [
    "### dot product using map and reduce "
   ]
  },
  {
   "cell_type": "code",
   "execution_count": 96,
   "metadata": {},
   "outputs": [
    {
     "name": "stdout",
     "output_type": "stream",
     "text": [
      "[1, 4, 6]\n",
      "11\n"
     ]
    }
   ],
   "source": [
    "a=[1,2,3]; b = [1,2,2]\n",
    "\n",
    "import operator # python built-in \n",
    "print (list(map(operator.mul, a, b )))\n",
    "print (functools.reduce(operator.add, map(operator.mul, a, b ) ))"
   ]
  },
  {
   "cell_type": "markdown",
   "metadata": {},
   "source": [
    "### starmap"
   ]
  },
  {
   "cell_type": "code",
   "execution_count": 14,
   "metadata": {},
   "outputs": [
    {
     "name": "stdout",
     "output_type": "stream",
     "text": [
      "[1.1, 2.2, 3.3, 4.4]\n",
      "[(1, 0.1), (2, 0.2), (3, 0.3), (4, 0.4)]\n"
     ]
    },
    {
     "data": {
      "text/plain": [
       "[1.1, 2.2, 3.3, 4.4]"
      ]
     },
     "execution_count": 14,
     "metadata": {},
     "output_type": "execute_result"
    }
   ],
   "source": [
    "def foo(a, b):\n",
    "    return a+b\n",
    "\n",
    "# standard map \n",
    "A, B = [1,2,3,4], [0.1, 0.2, 0.3, 0.4]\n",
    "print (list(map(foo, A, B)))\n",
    "\n",
    "# star map \n",
    "import itertools\n",
    "print (list(zip(A, B))) # pair elements of A and B together \n",
    "list(itertools.starmap(foo, zip(A, B)))"
   ]
  },
  {
   "cell_type": "code",
   "execution_count": null,
   "metadata": {},
   "outputs": [
    {
     "name": "stdout",
     "output_type": "stream",
     "text": [
      "[(1, 3), (2, 4)]\n",
      "[111, 115]\n"
     ]
    }
   ],
   "source": [
    "print (list(zip([1,2,], [3,4,5])))\n",
    "print (list(map(foo, [1,3], range(10, 15), range(100, 105))))"
   ]
  },
  {
   "cell_type": "markdown",
   "metadata": {},
   "source": [
    "### What if I wanna set the same value for keyword arguments? `partial`\n"
   ]
  },
  {
   "cell_type": "code",
   "execution_count": 97,
   "metadata": {},
   "outputs": [
    {
     "name": "stdout",
     "output_type": "stream",
     "text": [
      "1 10\n",
      "2 10\n",
      "3 10\n"
     ]
    },
    {
     "data": {
      "text/plain": [
       "[None, None, None]"
      ]
     },
     "execution_count": 97,
     "metadata": {},
     "output_type": "execute_result"
    }
   ],
   "source": [
    "def  foo(a, b):\n",
    "    print (a,b)\n",
    "foo2 = functools.partial(foo, b=10)\n",
    "list(map(foo2, [1,2,3]))"
   ]
  },
  {
   "cell_type": "code",
   "execution_count": null,
   "metadata": {},
   "outputs": [
    {
     "name": "stdout",
     "output_type": "stream",
     "text": [
      "[1.0, 1.4142135623730951, 5.830951894845301, 9.433981132056603]\n",
      "[6, 8, 10, 12]\n",
      "[(1, 5), (2, 6), (3, 7), (4, 8)]\n",
      "[5, 6, 7, 8]\n"
     ]
    }
   ],
   "source": [
    "print ( list(map(lambda x:x**0.5, [1,2,34,89]))) \n",
    "print (list(map(lambda x, y: x+y , [1,2,3,4], [5,6,7,8])))\n",
    "print (list(map(lambda x, y: (x, y) , [1,2,3,4], [5,6,7,8])))\n",
    "print (list(map(lambda x, y, z: x+y+z , [1,2,3,4], [5,6,7,8], [-1, -2, -3, -4])))"
   ]
  },
  {
   "cell_type": "markdown",
   "metadata": {},
   "source": [
    "## Exception handling "
   ]
  },
  {
   "cell_type": "code",
   "execution_count": 100,
   "metadata": {},
   "outputs": [
    {
     "name": "stdout",
     "output_type": "stream",
     "text": [
      "0.5\n"
     ]
    }
   ],
   "source": [
    "def foo(a,b):\n",
    "    try :\n",
    "        print (a/b)\n",
    "    except TypeError: \n",
    "        print  (\"wrong type\")\n",
    "    except ZeroDivisionError: \n",
    "        print (\"you don't know math\")\n",
    "    except ValueError:\n",
    "        pass \n",
    "\n",
    "foo(1, 2)\n",
    "foo(\"a\", \"b\")\n",
    "foo(1, 0)"
   ]
  },
  {
   "cell_type": "markdown",
   "metadata": {},
   "source": [
    "## `eval` and `exec` "
   ]
  },
  {
   "cell_type": "code",
   "execution_count": 104,
   "metadata": {},
   "outputs": [
    {
     "name": "stdout",
     "output_type": "stream",
     "text": [
      "2\n",
      "7\n",
      "1\n",
      "2\n"
     ]
    }
   ],
   "source": [
    "x = 1 \n",
    "\n",
    "print (eval(\"1+x\")) # an expression only, no statements, return the value of the expression\n",
    "y = eval(\"5+2\")\n",
    "print (y)\n",
    "\n",
    "z = exec(\"a=1;b=2; a+b\")  # no return \n",
    "print (a)\n",
    "print (b)"
   ]
  },
  {
   "cell_type": "markdown",
   "metadata": {},
   "source": [
    "## Classes and OOP\n",
    "\n",
    "Finetuning models means you inherit the base class and override some methods. https://github.com/huggingface/transformers/blob/main/src/transformers/models/bert/modeling_bert.py"
   ]
  },
  {
   "cell_type": "code",
   "execution_count": 107,
   "metadata": {},
   "outputs": [
    {
     "name": "stdout",
     "output_type": "stream",
     "text": [
      "3\n",
      "Run experiment 3 times from kaggle.com\n"
     ]
    }
   ],
   "source": [
    "class experiments: \n",
    "    def __init__(self, url, epochs): # constructor \n",
    "        self.url = url\n",
    "        self.epochs = epochs\n",
    "\n",
    "    def one_more_epoch(self):\n",
    "        self.epochs += 1\n",
    "\n",
    "    def __str__(self): # Let's you print the inside of an object\n",
    "        return f\"Run experiment {self.epochs} times from {self.url}\"\n",
    "\n",
    "    # def __repr__(self):\n",
    "    #     return f\"Run experiment {self.epochs} times from {self.url}\"\n",
    "    \n",
    "    def run(self):\n",
    "            self.one_more_epoch()\n",
    "            print (self.epochs)\n",
    "\n",
    "exp1 = experiments(\"kaggle.com\", 2)\n",
    "exp1.run()\n",
    "print (exp1)"
   ]
  },
  {
   "cell_type": "code",
   "execution_count": null,
   "metadata": {},
   "outputs": [
    {
     "name": "stdout",
     "output_type": "stream",
     "text": [
      "loser.rocks\n",
      "thjis is advanced\n",
      "loser.rocks\n",
      "thjis is advanced\n",
      "loser.rocks\n",
      "thjis is advanced\n",
      "loser.rocks\n",
      "thjis is advanced\n"
     ]
    }
   ],
   "source": [
    "class advancedExperiments(experiments): # inheritance \n",
    "    def __init__(self, url, epochs):\n",
    "        super().__init__(url, epochs)  ## note the super \n",
    "    def runrun(self):\n",
    "        for epoch in range(self.epochs):\n",
    "            print (self.url)\n",
    "            print (\"thjis is advanced\")\n",
    "\n",
    "exp2 = advancedExperiments(\"loser.rocks\", 4)\n",
    "exp2.runrun()"
   ]
  },
  {
   "cell_type": "markdown",
   "metadata": {},
   "source": [
    "## Parallelization\n",
    "\n",
    "Another lib: embaraassingly parallelizable lib `joblib` https://joblib.readthedocs.io/en/latest/parallel.html"
   ]
  },
  {
   "cell_type": "code",
   "execution_count": 80,
   "metadata": {},
   "outputs": [
    {
     "name": "stdout",
     "output_type": "stream",
     "text": [
      "<multiprocessing.pool.Pool state=TERMINATE pool_size=8>\n"
     ]
    }
   ],
   "source": [
    "def foo(x):\n",
    "    x += 0.1\n",
    "    return x*x\n",
    "\n",
    "import multiprocessing\n",
    "with multiprocessing.Pool() as p:\n",
    "    p.map(foo, range(10000))"
   ]
  },
  {
   "cell_type": "markdown",
   "metadata": {},
   "source": [
    "## Selected third-party libraries\n",
    "* Beautifulsoup [example](https://github.com/forrestbao/pebble/blob/master/webcrawler/ACL2019_download.ipynb)\n",
    "* NumPy/Scipy\n",
    "* Matplotlib\n",
    "* ipywidget\n",
    "* Matplotlib, `matplotlib.animation`"
   ]
  },
  {
   "cell_type": "markdown",
   "metadata": {},
   "source": [
    "# Numpy"
   ]
  },
  {
   "cell_type": "code",
   "execution_count": 48,
   "metadata": {},
   "outputs": [],
   "source": [
    "import numpy "
   ]
  },
  {
   "cell_type": "code",
   "execution_count": 83,
   "metadata": {},
   "outputs": [
    {
     "name": "stdout",
     "output_type": "stream",
     "text": [
      "[[1 2]\n",
      " [3 4]]\n"
     ]
    },
    {
     "data": {
      "text/plain": [
       "numpy.ndarray"
      ]
     },
     "execution_count": 83,
     "metadata": {},
     "output_type": "execute_result"
    }
   ],
   "source": [
    "L = [1, [2,3 ]]\n",
    "L = [[1, 2], [3,4]]\n",
    "\n",
    "print (numpy.array(L))\n",
    "\n",
    "\n",
    "a= numpy.array([[1,2], \n",
    "                [3,4]])\n",
    "a\n",
    "type(a)"
   ]
  },
  {
   "cell_type": "code",
   "execution_count": null,
   "metadata": {},
   "outputs": [
    {
     "data": {
      "text/plain": [
       "array([[1, 3],\n",
       "       [2, 4]])"
      ]
     },
     "execution_count": 33,
     "metadata": {},
     "output_type": "execute_result"
    }
   ],
   "source": [
    "a.transpose()"
   ]
  },
  {
   "cell_type": "code",
   "execution_count": null,
   "metadata": {},
   "outputs": [
    {
     "data": {
      "text/plain": [
       "array([[-2. ,  1. ],\n",
       "       [ 1.5, -0.5]])"
      ]
     },
     "execution_count": 45,
     "metadata": {},
     "output_type": "execute_result"
    }
   ],
   "source": [
    "numpy.linalg.inv(a)"
   ]
  },
  {
   "cell_type": "code",
   "execution_count": null,
   "metadata": {},
   "outputs": [
    {
     "data": {
      "text/plain": [
       "array([[ 1,  4],\n",
       "       [ 9, 16]])"
      ]
     },
     "execution_count": 35,
     "metadata": {},
     "output_type": "execute_result"
    }
   ],
   "source": [
    "a*a # hadamard product or element-wise product"
   ]
  },
  {
   "cell_type": "code",
   "execution_count": null,
   "metadata": {},
   "outputs": [
    {
     "data": {
      "text/plain": [
       "array([[ 7, 10],\n",
       "       [15, 22]])"
      ]
     },
     "execution_count": 37,
     "metadata": {},
     "output_type": "execute_result"
    }
   ],
   "source": [
    "a@a\n",
    "# or \n",
    "numpy.matmul(a, a)"
   ]
  },
  {
   "cell_type": "markdown",
   "metadata": {},
   "source": [
    "## axes system in Numpy"
   ]
  },
  {
   "cell_type": "code",
   "execution_count": 84,
   "metadata": {},
   "outputs": [
    {
     "name": "stdout",
     "output_type": "stream",
     "text": [
      "[[1 2]\n",
      " [3 4]]\n",
      "[3 4]\n",
      "[2 4]\n"
     ]
    }
   ],
   "source": [
    "print (a)\n",
    "print (a.max(axis=0))\n",
    "print (a.max(axis=1))"
   ]
  },
  {
   "cell_type": "code",
   "execution_count": null,
   "metadata": {},
   "outputs": [
    {
     "name": "stdout",
     "output_type": "stream",
     "text": [
      "[[5 6]\n",
      " [7 8]]\n",
      "[[3 4]\n",
      " [7 8]]\n",
      "[[2 4]\n",
      " [6 8]]\n"
     ]
    }
   ],
   "source": [
    "a= numpy.array([\n",
    "                [[1,2], \n",
    "                 [3,4]], \n",
    "                [[5,6], \n",
    "                 [7,8]]\n",
    "               ])\n",
    "print (a.max(axis=0))\n",
    "print (a.max(axis=1))\n",
    "print (a.max(axis=2))"
   ]
  },
  {
   "cell_type": "code",
   "execution_count": 29,
   "metadata": {},
   "outputs": [
    {
     "name": "stdout",
     "output_type": "stream",
     "text": [
      "[[1 2]\n",
      " [3 4]]\n",
      "[[1 2]\n",
      " [3 4]\n",
      " [1 2]\n",
      " [3 4]]\n",
      "[[1 2 1 2]\n",
      " [3 4 3 4]]\n",
      "[[[1 2]\n",
      "  [1 2]]\n",
      "\n",
      " [[3 4]\n",
      "  [3 4]]]\n"
     ]
    }
   ],
   "source": [
    "a= numpy.array([[1,2], \n",
    "                [3,4]])\n",
    "print(a)\n",
    "print (numpy.vstack((a,a))) \n",
    "print (numpy.hstack((a,a))) \n",
    "print (numpy.stack((a,a), axis=1))"
   ]
  },
  {
   "cell_type": "markdown",
   "metadata": {},
   "source": [
    "## Properly check whether two numpy.ndarray s are the same"
   ]
  },
  {
   "cell_type": "code",
   "execution_count": 30,
   "metadata": {},
   "outputs": [
    {
     "data": {
      "text/plain": [
       "True"
      ]
     },
     "execution_count": 30,
     "metadata": {},
     "output_type": "execute_result"
    }
   ],
   "source": [
    "numpy.array_equal(a,a)"
   ]
  },
  {
   "cell_type": "code",
   "execution_count": 31,
   "metadata": {},
   "outputs": [
    {
     "data": {
      "text/plain": [
       "array([[ True,  True],\n",
       "       [ True,  True]])"
      ]
     },
     "execution_count": 31,
     "metadata": {},
     "output_type": "execute_result"
    }
   ],
   "source": [
    "a==a"
   ]
  },
  {
   "cell_type": "markdown",
   "metadata": {},
   "source": [
    "## broadcast\n",
    "Note in the example below that `a` is a 2D numpy array while `b` is 1D. Mathematically, the product between the two are not defined. "
   ]
  },
  {
   "cell_type": "code",
   "execution_count": 21,
   "metadata": {},
   "outputs": [
    {
     "data": {
      "text/plain": [
       "array([[-1,  2,  0],\n",
       "       [-3,  4,  0]])"
      ]
     },
     "execution_count": 21,
     "metadata": {},
     "output_type": "execute_result"
    }
   ],
   "source": [
    "import numpy\n",
    "a= numpy.array([[1,2,5], \n",
    "                [3,4,6]])\n",
    "b = numpy.array([-1, 1, 0])\n",
    "\n",
    "a*b\n"
   ]
  },
  {
   "cell_type": "code",
   "execution_count": 86,
   "metadata": {},
   "outputs": [
    {
     "name": "stdout",
     "output_type": "stream",
     "text": [
      "[ 0  1  2  3  4  5  6  7  8  9 10 11 12 13 14 15 16 17 18 19 20 21 22 23\n",
      " 24 25 26 27 28 29]\n",
      "[[[ 0  1  2]\n",
      "  [ 3  4  5]]\n",
      "\n",
      " [[ 6  7  8]\n",
      "  [ 9 10 11]]\n",
      "\n",
      " [[12 13 14]\n",
      "  [15 16 17]]\n",
      "\n",
      " [[18 19 20]\n",
      "  [21 22 23]]\n",
      "\n",
      " [[24 25 26]\n",
      "  [27 28 29]]]\n"
     ]
    }
   ],
   "source": [
    "b=numpy.array(range(30))\n",
    "print (b)\n",
    "c = b.reshape(5,2,3)\n",
    "print (c)"
   ]
  },
  {
   "attachments": {},
   "cell_type": "markdown",
   "metadata": {},
   "source": [
    "### Filter elements using broadcasted comparitors "
   ]
  },
  {
   "cell_type": "code",
   "execution_count": 49,
   "metadata": {},
   "outputs": [
    {
     "name": "stdout",
     "output_type": "stream",
     "text": [
      "[ True False  True  True False]\n"
     ]
    }
   ],
   "source": [
    "X = numpy.array(\n",
    "    [1,0,1,1,0]\n",
    ")\n",
    "print (X==1)"
   ]
  },
  {
   "cell_type": "code",
   "execution_count": 22,
   "metadata": {},
   "outputs": [
    {
     "name": "stdout",
     "output_type": "stream",
     "text": [
      "[[1 2 3]\n",
      " [4 5 6]]\n",
      "[1 2 3 4 5 6]\n",
      "[1 2 3 4 5 6]\n"
     ]
    }
   ],
   "source": [
    "# ravel a numpy array \n",
    "\n",
    "a = numpy.array([[1,2,3], [4,5,6]])\n",
    "print (a)\n",
    "print (a.ravel())\n",
    "print (a.flatten())"
   ]
  },
  {
   "cell_type": "code",
   "execution_count": 28,
   "metadata": {},
   "outputs": [
    {
     "name": "stdout",
     "output_type": "stream",
     "text": [
      "(1, 2, 3)\n",
      "(2, 3)\n",
      "[[1 2 3]\n",
      " [4 5 6]]\n"
     ]
    }
   ],
   "source": [
    "# squeeze a numpy array\n",
    "\n",
    "a = numpy.array([[[1,2,3], [4,5,6]]])\n",
    "print (a)\n",
    "print (a.shape) \n",
    "print (a.squeeze().shape)\n",
    "print (a.squeeze())\n"
   ]
  },
  {
   "cell_type": "markdown",
   "metadata": {},
   "source": [
    "## Sliding over data \n",
    "\n",
    "See https://numpy.org/doc/stable/reference/generated/numpy.lib.stride_tricks.sliding_window_view.html"
   ]
  },
  {
   "cell_type": "markdown",
   "metadata": {},
   "source": [
    "## Think matrixly\n",
    "\n",
    "If you write for-loops when dealing with numpy arrays, something might be wrong. "
   ]
  },
  {
   "cell_type": "code",
   "execution_count": 34,
   "metadata": {},
   "outputs": [
    {
     "name": "stdout",
     "output_type": "stream",
     "text": [
      "6\n"
     ]
    },
    {
     "data": {
      "text/plain": [
       "6"
      ]
     },
     "execution_count": 34,
     "metadata": {},
     "output_type": "execute_result"
    }
   ],
   "source": [
    "a=numpy.array([[1,2], [3,4]])\n",
    "\n",
    "# Do not do this\n",
    "row_sum = 0 \n",
    "for i in range(len(a)):\n",
    "    row_sum += a[i].max()\n",
    "\n",
    "print (row_sum)\n",
    "\n",
    "\n",
    "# Do this: \n",
    "sum(a.max(axis=1))"
   ]
  },
  {
   "cell_type": "code",
   "execution_count": 6,
   "metadata": {},
   "outputs": [],
   "source": [
    "a=numpy.array(\n",
    "    [\n",
    "        [\n",
    "            [1,2], \n",
    "            [3,4]\n",
    "        ], \n",
    "        [\n",
    "            [5,6],\n",
    "            [7,8]\n",
    "        ]\n",
    "    ]\n",
    ")"
   ]
  },
  {
   "cell_type": "code",
   "execution_count": 12,
   "metadata": {},
   "outputs": [
    {
     "data": {
      "text/plain": [
       "array([2, 4])"
      ]
     },
     "execution_count": 12,
     "metadata": {},
     "output_type": "execute_result"
    }
   ],
   "source": [
    "a.max(axis=1)"
   ]
  },
  {
   "cell_type": "code",
   "execution_count": 49,
   "metadata": {},
   "outputs": [
    {
     "data": {
      "text/plain": [
       "array([[ 5, 11, 17],\n",
       "       [11, 25, 39],\n",
       "       [17, 39, 61]])"
      ]
     },
     "execution_count": 49,
     "metadata": {},
     "output_type": "execute_result"
    }
   ],
   "source": [
    "a=numpy.array([[1,2], [3,4], [5,6]])\n",
    "numpy.inner(a,a)"
   ]
  },
  {
   "cell_type": "code",
   "execution_count": 5,
   "metadata": {},
   "outputs": [
    {
     "name": "stdout",
     "output_type": "stream",
     "text": [
      "32\n",
      "32\n"
     ]
    }
   ],
   "source": [
    "x = numpy.array(\n",
    "    [1,2,3],\n",
    ")\n",
    "y = numpy.array(\n",
    "    [4,5,6],\n",
    ") \n",
    "\n",
    "# dot product of x and y \n",
    "print (numpy.dot(x,y))\n",
    "\n",
    "# hadamard product of x and y\n",
    "print (x*y)"
   ]
  },
  {
   "cell_type": "markdown",
   "metadata": {},
   "source": [
    "# Einstein ops lib \n",
    "\n",
    "Appeared at ICLR 2022\n",
    "\n",
    "Numpy has its own Einstein sum functins. But `einops` is more powerful."
   ]
  },
  {
   "cell_type": "code",
   "execution_count": 39,
   "metadata": {},
   "outputs": [],
   "source": [
    "X=numpy.array([[[1,2,3], [4,5,6]], \n",
    "               [[7,8,9], [10,11,12]], \n",
    "               [[13,14,15], [16,17,18]], \n",
    "               [[19,20,21], [22,23,24]]\n",
    "              ])"
   ]
  },
  {
   "cell_type": "code",
   "execution_count": 34,
   "metadata": {},
   "outputs": [
    {
     "data": {
      "text/plain": [
       "array([[ 1,  2,  3,  4,  5,  6],\n",
       "       [ 7,  8,  9, 10, 11, 12],\n",
       "       [13, 14, 15, 16, 17, 18],\n",
       "       [19, 20, 21, 22, 23, 24]])"
      ]
     },
     "execution_count": 34,
     "metadata": {},
     "output_type": "execute_result"
    }
   ],
   "source": [
    "import einops\n",
    "einops.rearrange(X, \n",
    "            'i j k -> i (j k)')"
   ]
  },
  {
   "cell_type": "code",
   "execution_count": 36,
   "metadata": {},
   "outputs": [
    {
     "data": {
      "text/plain": [
       "array([[ 1,  4,  2,  5,  3,  6],\n",
       "       [ 7, 10,  8, 11,  9, 12],\n",
       "       [13, 16, 14, 17, 15, 18],\n",
       "       [19, 22, 20, 23, 21, 24]])"
      ]
     },
     "execution_count": 36,
     "metadata": {},
     "output_type": "execute_result"
    }
   ],
   "source": [
    "einops.rearrange(X, \n",
    "        'i j k -> i (k j)')"
   ]
  },
  {
   "cell_type": "code",
   "execution_count": 38,
   "metadata": {},
   "outputs": [
    {
     "name": "stdout",
     "output_type": "stream",
     "text": [
      "[ 21  57  93 129]\n",
      "\n",
      "\n",
      "\n",
      "\n",
      "\n",
      "\n",
      "[ 21  57  93 129]\n"
     ]
    }
   ],
   "source": [
    "# The beautiful way\n",
    "print (numpy.einsum('ijk -> i', X))\n",
    "print (\"\\n\"*5)\n",
    "\n",
    "# The ugly way\n",
    "print (numpy.sum( \n",
    "          numpy.sum(X, axis=2), \n",
    "          axis=1\n",
    "      ))"
   ]
  },
  {
   "cell_type": "code",
   "execution_count": null,
   "metadata": {},
   "outputs": [],
   "source": []
  }
 ],
 "metadata": {
  "kernelspec": {
   "display_name": "Python 3.10.4 64-bit",
   "language": "python",
   "name": "python3"
  },
  "language_info": {
   "codemirror_mode": {
    "name": "ipython",
    "version": 3
   },
   "file_extension": ".py",
   "mimetype": "text/x-python",
   "name": "python",
   "nbconvert_exporter": "python",
   "pygments_lexer": "ipython3",
   "version": "3.10.12"
  },
  "vscode": {
   "interpreter": {
    "hash": "916dbcbb3f70747c44a77c7bcd40155683ae19c65e1c03b4aa3499c5328201f1"
   }
  }
 },
 "nbformat": 4,
 "nbformat_minor": 1
}
